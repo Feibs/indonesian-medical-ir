{
  "cells": [
    {
      "cell_type": "markdown",
      "metadata": {
        "id": "wfrnChx7735e"
      },
      "source": [
        "# Setup"
      ]
    },
    {
      "cell_type": "markdown",
      "metadata": {
        "id": "yIj6chvH9HTs"
      },
      "source": [
        "## Install & Import"
      ]
    },
    {
      "cell_type": "code",
      "execution_count": 1,
      "metadata": {
        "colab": {
          "base_uri": "https://localhost:8080/"
        },
        "id": "AgYYh0sdo0Z-",
        "outputId": "8873dbd8-de3f-4e8f-d00b-7ba4f8da50b2"
      },
      "outputs": [
        {
          "name": "stdout",
          "output_type": "stream",
          "text": [
            "Mounted at /content/drive/\n"
          ]
        }
      ],
      "source": [
        "from google.colab import drive\n",
        "drive.mount('/content/drive/')\n",
        "kamus_baku = '/content/drive/MyDrive/TUGAS AKHIR/kamus_baku.csv'\n",
        "stopwords = '/content/drive/MyDrive/TUGAS AKHIR/stopwords.csv'"
      ]
    },
    {
      "cell_type": "code",
      "execution_count": 2,
      "metadata": {
        "id": "1RBAq0o66z7n"
      },
      "outputs": [],
      "source": [
        "%%capture\n",
        "!pip install python-terrier -q\n",
        "!pip install --upgrade git+https://github.com/terrierteam/pyterrier_t5.git -q\n",
        "!pip install -U sentence-transformers -q\n",
        "!pip install --upgrade gensim\n",
        "!pip install PySastrawi\n",
        "!pip install rake-nltk\n",
        "!pip install POT==0.4.0"
      ]
    },
    {
      "cell_type": "code",
      "execution_count": null,
      "metadata": {
        "colab": {
          "base_uri": "https://localhost:8080/"
        },
        "id": "Vnc8930u7Ter",
        "outputId": "bff95104-777e-45ca-f654-b880275b91b6"
      },
      "outputs": [],
      "source": [
        "!wget -O full_dataset.xml https://lumbung.cs.ui.ac.id/f/ed0627b7fa8e4984a672/?dl=1\n",
        "!wget -O qrels_all.csv https://lumbung.cs.ui.ac.id/f/d2379cc795e84ed39605/?dl=1"
      ]
    },
    {
      "cell_type": "code",
      "execution_count": 4,
      "metadata": {
        "id": "0QAmynIQ7uNI"
      },
      "outputs": [],
      "source": [
        "from IPython.display import display\n",
        "from xml.dom.minidom import parse, parseString\n",
        "from pyterrier.measures import *\n",
        "\n",
        "from pyterrier_t5 import MonoT5ReRanker, DuoT5ReRanker\n",
        "from sentence_transformers import CrossEncoder, SentenceTransformer\n",
        "from sentence_transformers.util import cos_sim\n",
        "\n",
        "from Sastrawi.Stemmer.StemmerFactory import StemmerFactory\n",
        "\n",
        "from gensim.models import Word2Vec, FastText\n",
        "\n",
        "from rake_nltk import Rake\n",
        "\n",
        "from ot import emd2\n",
        "\n",
        "from scipy import stats\n",
        "from scipy.spatial import distance\n",
        "from scipy.spatial.distance import cosine\n",
        "\n",
        "from sklearn import preprocessing\n",
        "from sklearn.model_selection import KFold\n",
        "\n",
        "import xml.etree.ElementTree as et\n",
        "import pickle\n",
        "import random\n",
        "import pyterrier as pt\n",
        "import pandas as pd\n",
        "import numpy as np\n",
        "import xgboost as xgb\n",
        "import torch\n",
        "import json\n",
        "import os\n",
        "import re\n",
        "import math\n",
        "import nltk\n",
        "nltk.download('punkt')\n",
        "\n",
        "if not pt.started():\n",
        "  pt.init(version='snapshot')"
      ]
    },
    {
      "cell_type": "markdown",
      "metadata": {
        "id": "1hd7M9x8Xudw"
      },
      "source": [
        "## Set Random Seed"
      ]
    },
    {
      "cell_type": "code",
      "execution_count": 5,
      "metadata": {
        "colab": {
          "base_uri": "https://localhost:8080/"
        },
        "id": "IWU2PP0FXxFX",
        "outputId": "17cfcf64-ae92-4320-ea92-a97a867ed25d"
      },
      "outputs": [
        {
          "data": {
            "text/plain": [
              "<torch._C.Generator at 0x7cb6a26dfb30>"
            ]
          },
          "execution_count": 5,
          "metadata": {},
          "output_type": "execute_result"
        }
      ],
      "source": [
        "random.seed(42)\n",
        "np.random.seed(42)\n",
        "torch.manual_seed(42)"
      ]
    },
    {
      "cell_type": "markdown",
      "metadata": {
        "id": "93rZlzo29LB1"
      },
      "source": [
        "## Script of Stopwords"
      ]
    },
    {
      "cell_type": "code",
      "execution_count": 6,
      "metadata": {
        "id": "raK6hj5gZNCL"
      },
      "outputs": [],
      "source": [
        "stops = pd.read_csv(stopwords, header=None)[0].values.tolist()"
      ]
    },
    {
      "cell_type": "code",
      "execution_count": 7,
      "metadata": {
        "id": "UkjC4Q4krSZ-"
      },
      "outputs": [],
      "source": [
        "def remove_stopwords(text):\n",
        "    tokens = text.lower().split()\n",
        "    cleaned_tokens = [token for token in tokens if token not in stops]\n",
        "    return (\" \".join(cleaned_tokens))"
      ]
    },
    {
      "cell_type": "markdown",
      "metadata": {
        "id": "PgIZvL5O9OPa"
      },
      "source": [
        "## Script of Special Chars"
      ]
    },
    {
      "cell_type": "code",
      "execution_count": 8,
      "metadata": {
        "id": "kwYGhX-BjURX"
      },
      "outputs": [],
      "source": [
        "# isu karakter nonalphanumeric pada PyTerrier: https://github.com/terrier-org/pyterrier/issues/62\n",
        "def remove_specials(text):\n",
        "  pattern = re.compile('[\\W_]+')\n",
        "  return pattern.sub(' ', text)"
      ]
    },
    {
      "cell_type": "markdown",
      "metadata": {
        "id": "P16Zu47kWhtt"
      },
      "source": [
        "## Script of Normalization"
      ]
    },
    {
      "cell_type": "code",
      "execution_count": 9,
      "metadata": {
        "id": "5FxqYji2Wgf6"
      },
      "outputs": [],
      "source": [
        "# script normalisasi dari Nurhayati (2019)\n",
        "\n",
        "df_kamus_baku = pd.read_csv(kamus_baku, index_col=0)\n",
        "\n",
        "def normalisasi_singkatan(text):\n",
        "    text = text.lower()\n",
        "    tokens = nltk.word_tokenize(text)\n",
        "    token_after_normalized = []\n",
        "\n",
        "    for token in tokens:\n",
        "        if token in df_kamus_baku['singkatan'].values:\n",
        "            token = df_kamus_baku.loc[df_kamus_baku['singkatan'] == token, 'asli'].values[0]\n",
        "        token_after_normalized.append(token)\n",
        "\n",
        "    normal_text = ' '.join(token_after_normalized)\n",
        "    return normal_text\n",
        "\n",
        "def normalisasi_kata_ulang(text):\n",
        "    text = text.lower()\n",
        "    # contoh: kira2 -> kira-kira\n",
        "    for found in re.finditer(r'[A-z]+(2|2x)\\b', text):\n",
        "        found = found.group(0)\n",
        "        replace = re.sub(r'(2|2x)', \"\", found)\n",
        "        replace = replace + '-' + replace\n",
        "        text = text.replace(found, replace)\n",
        "\n",
        "    # contoh: apa apa -> apa-apa\n",
        "    for found in re.finditer(r'\\b([A-z]+)\\b\\s+\\1', text):\n",
        "        found = found.group(0)\n",
        "        word = found.split(' ');\n",
        "        word = word[0] + \"-\" + word[0]\n",
        "        text = text.replace(found, word)\n",
        "    return text\n",
        "\n",
        "def normalisasi(question):\n",
        "    question = normalisasi_singkatan(question)\n",
        "    question = normalisasi_kata_ulang(question)\n",
        "\n",
        "    return question"
      ]
    },
    {
      "cell_type": "markdown",
      "metadata": {
        "id": "nagVEhue-2TT"
      },
      "source": [
        "# Preprocess Data"
      ]
    },
    {
      "cell_type": "code",
      "execution_count": 10,
      "metadata": {
        "colab": {
          "base_uri": "https://localhost:8080/"
        },
        "id": "gAabwUGvwz4_",
        "outputId": "ab569c5c-317a-4d83-bfc6-a1ebffb6bee9"
      },
      "outputs": [
        {
          "name": "stdout",
          "output_type": "stream",
          "text": [
            "CPU times: user 4.05 s, sys: 365 ms, total: 4.41 s\n",
            "Wall time: 4.44 s\n"
          ]
        }
      ],
      "source": [
        "%%time\n",
        "\n",
        "xtree = et.parse(\"full_dataset.xml\")\n",
        "xroot = xtree.getroot()\n",
        "rows = []\n",
        "\n",
        "for node in xroot:\n",
        "  id = node.find(\"ID\").text.strip() if node.find(\"ID\").text is not None else None\n",
        "  url = node.find(\"URL\").text.strip() if node.find(\"URL\").text is not None else None\n",
        "  tag = node.find(\"TAG\").find(\"ITEM\").text.strip() if node.find(\"TAG\").text is not None else None\n",
        "  keluhan = node.find(\"KELUHAN\")\n",
        "  keluhan_judul = keluhan.find(\"JUDUL\").text.strip() if keluhan.find(\"JUDUL\").text is not None else None\n",
        "  keluhan_isi = keluhan.find(\"ISI\").text.strip() if keluhan.find(\"ISI\").text is not None else None\n",
        "  keluhan_waktu = keluhan.find(\"WAKTU\").text.strip() if keluhan.find(\"WAKTU\").text is not None else None\n",
        "  jawaban = node.find(\"JAWABAN\")\n",
        "  jawaban_isi = jawaban.find(\"ISI\").text.strip() if jawaban.find(\"ISI\").text is not None else None\n",
        "  jawaban_waktu = jawaban.find(\"WAKTU\").text.strip() if jawaban.find(\"WAKTU\").text is not None else None\n",
        "\n",
        "  rows.append({\"docno\": id, \"url\": url, \"tag\": tag, \\\n",
        "                \"keluhan_judul\": keluhan_judul, \"keluhan_isi\": keluhan_isi, \"keluhan_waktu\": keluhan_waktu, \\\n",
        "                \"jawaban_isi\": jawaban_isi, \"jawaban_waktu\": jawaban_waktu})\n",
        "\n",
        "data = pd.DataFrame(rows, columns = ['docno', 'url', 'tag', 'keluhan_judul', 'keluhan_isi', 'keluhan_waktu', 'jawaban_isi', 'jawaban_waktu'])"
      ]
    },
    {
      "cell_type": "code",
      "execution_count": 11,
      "metadata": {
        "colab": {
          "base_uri": "https://localhost:8080/"
        },
        "id": "mr8WXOzFnxD0",
        "outputId": "ab587fe4-d88e-44f3-9b73-52b2b6349a14"
      },
      "outputs": [
        {
          "data": {
            "text/plain": [
              "102"
            ]
          },
          "execution_count": 11,
          "metadata": {},
          "output_type": "execute_result"
        }
      ],
      "source": [
        "keluhan_judul_kosong = data[data[\"keluhan_judul\"].isna()]\n",
        "len(keluhan_judul_kosong)"
      ]
    },
    {
      "cell_type": "code",
      "execution_count": 12,
      "metadata": {
        "colab": {
          "base_uri": "https://localhost:8080/"
        },
        "id": "vwBOfA6UO4to",
        "outputId": "62082f04-4770-4592-aff2-f2884a785a24"
      },
      "outputs": [
        {
          "name": "stdout",
          "output_type": "stream",
          "text": [
            "<class 'pandas.core.frame.DataFrame'>\n",
            "RangeIndex: 86731 entries, 0 to 86730\n",
            "Data columns (total 8 columns):\n",
            " #   Column         Non-Null Count  Dtype \n",
            "---  ------         --------------  ----- \n",
            " 0   docno          86731 non-null  object\n",
            " 1   url            86731 non-null  object\n",
            " 2   tag            86731 non-null  object\n",
            " 3   keluhan_judul  86629 non-null  object\n",
            " 4   keluhan_isi    86106 non-null  object\n",
            " 5   keluhan_waktu  24405 non-null  object\n",
            " 6   jawaban_isi    85289 non-null  object\n",
            " 7   jawaban_waktu  24405 non-null  object\n",
            "dtypes: object(8)\n",
            "memory usage: 5.3+ MB\n"
          ]
        }
      ],
      "source": [
        "data.info()"
      ]
    },
    {
      "cell_type": "markdown",
      "metadata": {
        "id": "RITJ-96H-f8G"
      },
      "source": [
        "## Format"
      ]
    },
    {
      "cell_type": "markdown",
      "metadata": {
        "id": "KkLUgV-TwvS3"
      },
      "source": [
        "Pilih (comment/uncomment) format data sesuai skenario yang ingin dijalankan"
      ]
    },
    {
      "cell_type": "markdown",
      "metadata": {
        "id": "Dy1iFSbl-pi1"
      },
      "source": [
        "### Judul"
      ]
    },
    {
      "cell_type": "code",
      "execution_count": 13,
      "metadata": {
        "id": "bbyWvQBI_dth"
      },
      "outputs": [],
      "source": [
        "# data = data[[\"docno\", \"keluhan_judul\"]].drop_duplicates()\n",
        "# data.fillna(' ', inplace=True)\n",
        "# data[\"keluhan\"] = data[\"keluhan_judul\"]\n",
        "# data = data.rename(columns = {\"keluhan_judul\": \"keluhan_raw\"})\n",
        "# data = data[[\"docno\", \"keluhan_raw\", \"keluhan\"]]"
      ]
    },
    {
      "cell_type": "markdown",
      "metadata": {
        "id": "joALhJxm-lok"
      },
      "source": [
        "### Judul + isi"
      ]
    },
    {
      "cell_type": "code",
      "execution_count": 14,
      "metadata": {
        "id": "jJWAdbwT6Q28"
      },
      "outputs": [],
      "source": [
        "data = data[[\"docno\", \"keluhan_judul\", \"keluhan_isi\"]].drop_duplicates()\n",
        "data.fillna(' ', inplace=True)\n",
        "data[\"keluhan\"] = data[\"keluhan_judul\"] + \" \" + data[\"keluhan_isi\"]\n",
        "data['keluhan_raw'] = data[\"keluhan_judul\"] + \". \" + data[\"keluhan_isi\"]\n",
        "data = data[[\"docno\", \"keluhan_raw\", \"keluhan\"]]"
      ]
    },
    {
      "cell_type": "markdown",
      "metadata": {
        "id": "74IieZBYysMI"
      },
      "source": [
        "## Remove Special Chars"
      ]
    },
    {
      "cell_type": "code",
      "execution_count": 15,
      "metadata": {
        "colab": {
          "base_uri": "https://localhost:8080/"
        },
        "id": "Cu8JbWTVQoTC",
        "outputId": "fe963b6d-ac2d-40cc-a6f6-2f27df3f14dc"
      },
      "outputs": [
        {
          "name": "stdout",
          "output_type": "stream",
          "text": [
            "CPU times: user 9.87 s, sys: 59.4 ms, total: 9.93 s\n",
            "Wall time: 10.1 s\n"
          ]
        }
      ],
      "source": [
        "%%time\n",
        "\n",
        "keluhan = []\n",
        "for index, line in data.iterrows():\n",
        "  keluhan.append(remove_specials(str(line['keluhan'])) if line['keluhan'] is not None else None)\n",
        "data['keluhan'] = keluhan"
      ]
    },
    {
      "cell_type": "markdown",
      "metadata": {
        "id": "SDwnLc-LyBqG"
      },
      "source": [
        "## Stem"
      ]
    },
    {
      "cell_type": "code",
      "execution_count": 16,
      "metadata": {
        "id": "oBAEeguqHTRA"
      },
      "outputs": [],
      "source": [
        "factory = StemmerFactory()\n",
        "stemmer = factory.create_stemmer()"
      ]
    },
    {
      "cell_type": "code",
      "execution_count": 17,
      "metadata": {
        "id": "2sPvtC4mtO_W"
      },
      "outputs": [],
      "source": [
        "# %%time\n",
        "# # Comment/uncomment sesuai skenario pemrosesan data yang ingin dicoba\n",
        "# keluhan = []\n",
        "# for index, line in data.iterrows():\n",
        "#   keluhan.append(stemmer.stem(line['keluhan']) if line['keluhan'] is not None else None)\n",
        "# data['keluhan'] = keluhan"
      ]
    },
    {
      "cell_type": "markdown",
      "metadata": {
        "id": "Z1DRWWs5dHhQ"
      },
      "source": [
        "## Normalize"
      ]
    },
    {
      "cell_type": "code",
      "execution_count": 18,
      "metadata": {
        "id": "WoD1Ntbcg9U5"
      },
      "outputs": [],
      "source": [
        "# %%time\n",
        "# # Comment/uncomment sesuai skenario pemrosesan data yang ingin dicoba\n",
        "# keluhan = []\n",
        "# for index, line in data.iterrows():\n",
        "#   keluhan.append(normalisasi(line['keluhan']) if line['keluhan'] is not None else None)\n",
        "# data['keluhan'] = keluhan"
      ]
    },
    {
      "cell_type": "markdown",
      "metadata": {
        "id": "jfw5bxxPyN2M"
      },
      "source": [
        "## Remove Stopwords"
      ]
    },
    {
      "cell_type": "code",
      "execution_count": 19,
      "metadata": {
        "colab": {
          "base_uri": "https://localhost:8080/"
        },
        "id": "t6qZGpJfwycX",
        "outputId": "844483a7-b8f0-4cf6-e3f4-3692de2819f6"
      },
      "outputs": [
        {
          "name": "stdout",
          "output_type": "stream",
          "text": [
            "CPU times: user 1min, sys: 161 ms, total: 1min\n",
            "Wall time: 1min 3s\n"
          ]
        }
      ],
      "source": [
        "%%time\n",
        "# Comment/uncomment sesuai skenario pemrosesan data yang ingin dicoba\n",
        "keluhan = []\n",
        "for index, line in data.iterrows():\n",
        "  keluhan.append(remove_stopwords(line['keluhan']) if line['keluhan'] is not None else None)\n",
        "data['keluhan'] = keluhan"
      ]
    },
    {
      "cell_type": "markdown",
      "metadata": {
        "id": "k8zAmKpd-A4S"
      },
      "source": [
        "## Drop Duplicates"
      ]
    },
    {
      "cell_type": "code",
      "execution_count": 20,
      "metadata": {
        "id": "8visoSNgDbwh"
      },
      "outputs": [],
      "source": [
        "data.drop_duplicates(inplace=True)"
      ]
    },
    {
      "cell_type": "code",
      "execution_count": 21,
      "metadata": {
        "colab": {
          "base_uri": "https://localhost:8080/"
        },
        "id": "ifzxD48ERRm5",
        "outputId": "7931ea80-8a0b-4fae-f6e7-27f22c7ccd88"
      },
      "outputs": [
        {
          "name": "stdout",
          "output_type": "stream",
          "text": [
            "<class 'pandas.core.frame.DataFrame'>\n",
            "RangeIndex: 86731 entries, 0 to 86730\n",
            "Data columns (total 3 columns):\n",
            " #   Column       Non-Null Count  Dtype \n",
            "---  ------       --------------  ----- \n",
            " 0   docno        86731 non-null  object\n",
            " 1   keluhan_raw  86731 non-null  object\n",
            " 2   keluhan      86731 non-null  object\n",
            "dtypes: object(3)\n",
            "memory usage: 2.0+ MB\n"
          ]
        }
      ],
      "source": [
        "data.info()"
      ]
    },
    {
      "cell_type": "markdown",
      "metadata": {
        "id": "1PYmpKP7mpnT"
      },
      "source": [
        "## Drop Missing Values"
      ]
    },
    {
      "cell_type": "code",
      "execution_count": 22,
      "metadata": {
        "colab": {
          "base_uri": "https://localhost:8080/"
        },
        "id": "mQpF_q0Umoet",
        "outputId": "aeaaf873-f329-4d3d-cfdf-7890c02fe08d"
      },
      "outputs": [
        {
          "name": "stdout",
          "output_type": "stream",
          "text": [
            "<class 'pandas.core.frame.DataFrame'>\n",
            "Index: 86723 entries, 0 to 86730\n",
            "Data columns (total 3 columns):\n",
            " #   Column       Non-Null Count  Dtype \n",
            "---  ------       --------------  ----- \n",
            " 0   docno        86723 non-null  object\n",
            " 1   keluhan_raw  86723 non-null  object\n",
            " 2   keluhan      86723 non-null  object\n",
            "dtypes: object(3)\n",
            "memory usage: 2.6+ MB\n"
          ]
        }
      ],
      "source": [
        "data.dropna(subset=['keluhan'], inplace=True)\n",
        "\n",
        "indexEmptyData = data[(data['keluhan'] == '') | (data['keluhan'] == ' ') | (data['keluhan'] == '.')].index\n",
        "data.drop(indexEmptyData, inplace=True)\n",
        "\n",
        "data.info()"
      ]
    },
    {
      "cell_type": "markdown",
      "metadata": {
        "id": "Ao8Lg-6PwF9K"
      },
      "source": [
        "# Preprocess Qrels"
      ]
    },
    {
      "cell_type": "code",
      "execution_count": 23,
      "metadata": {
        "colab": {
          "base_uri": "https://localhost:8080/"
        },
        "id": "wYCTWbQw2uBh",
        "outputId": "91cf8cc6-c65c-4579-fbdd-7018ef487b47"
      },
      "outputs": [
        {
          "name": "stdout",
          "output_type": "stream",
          "text": [
            "<class 'pandas.core.frame.DataFrame'>\n",
            "RangeIndex: 6110 entries, 0 to 6109\n",
            "Data columns (total 7 columns):\n",
            " #   Column  Non-Null Count  Dtype \n",
            "---  ------  --------------  ----- \n",
            " 0   qid     6110 non-null   object\n",
            " 1   docno   6110 non-null   object\n",
            " 2   qtitle  6110 non-null   object\n",
            " 3   qbody   5967 non-null   object\n",
            " 4   dtitle  6110 non-null   object\n",
            " 5   dbody   6110 non-null   object\n",
            " 6   label   6110 non-null   int64 \n",
            "dtypes: int64(1), object(6)\n",
            "memory usage: 334.3+ KB\n"
          ]
        }
      ],
      "source": [
        "qrels = pd.read_csv('qrels_all.csv')\n",
        "qrels.drop(columns=qrels.columns[0], axis=1, inplace=True)\n",
        "qrels.info()"
      ]
    },
    {
      "cell_type": "markdown",
      "metadata": {
        "id": "lb-icBN5iGRK"
      },
      "source": [
        "## Label"
      ]
    },
    {
      "cell_type": "markdown",
      "metadata": {
        "id": "z_e6uY26dj_A"
      },
      "source": [
        "*   Nonrelevant --> 0,\n",
        "*   Relevant or partial --> 1\n",
        "\n"
      ]
    },
    {
      "cell_type": "code",
      "execution_count": 24,
      "metadata": {
        "id": "l9BwrOXYk8zT"
      },
      "outputs": [],
      "source": [
        "label = []\n",
        "for index, line in qrels.iterrows():\n",
        "  label.append(1 if line['label'] == 2 else line['label'])\n",
        "qrels[\"label\"] = label"
      ]
    },
    {
      "cell_type": "markdown",
      "metadata": {
        "id": "DWUDSBvlIZ0b"
      },
      "source": [
        "## Remove Special Chars"
      ]
    },
    {
      "cell_type": "code",
      "execution_count": 25,
      "metadata": {
        "id": "FUql1qezIZPR"
      },
      "outputs": [],
      "source": [
        "qtitles, qbodies, dtitles, dbodies = [], [], [], []\n",
        "\n",
        "for index, line in qrels.iterrows():\n",
        "  qtitles.append(remove_specials(str(line['qtitle']).strip()))\n",
        "  qbodies.append(remove_specials(str(line['qbody']).strip()))\n",
        "  dtitles.append(remove_specials(str(line['dtitle']).strip()))\n",
        "  dbodies.append(remove_specials(str(line['dbody']).strip()))\n",
        "\n",
        "qrels[\"qtitle_nospecials\"] = qtitles\n",
        "qrels[\"qbody_nospecials\"] = qbodies\n",
        "qrels[\"dtitle_nospecials\"] = dtitles\n",
        "qrels[\"dbody_nospecials\"] = dbodies"
      ]
    },
    {
      "cell_type": "markdown",
      "metadata": {
        "id": "ZEaHRWLZ5zys"
      },
      "source": [
        "## Drop Duplicates"
      ]
    },
    {
      "cell_type": "code",
      "execution_count": 26,
      "metadata": {
        "id": "TosE9FIhxF9l"
      },
      "outputs": [],
      "source": [
        "qrels.drop_duplicates(inplace=True)"
      ]
    },
    {
      "cell_type": "code",
      "execution_count": 27,
      "metadata": {
        "colab": {
          "base_uri": "https://localhost:8080/"
        },
        "id": "F3oK40MajymP",
        "outputId": "582085bd-0101-469f-f023-bfad9036c51f"
      },
      "outputs": [
        {
          "name": "stdout",
          "output_type": "stream",
          "text": [
            "<class 'pandas.core.frame.DataFrame'>\n",
            "RangeIndex: 6110 entries, 0 to 6109\n",
            "Data columns (total 11 columns):\n",
            " #   Column             Non-Null Count  Dtype \n",
            "---  ------             --------------  ----- \n",
            " 0   qid                6110 non-null   object\n",
            " 1   docno              6110 non-null   object\n",
            " 2   qtitle             6110 non-null   object\n",
            " 3   qbody              5967 non-null   object\n",
            " 4   dtitle             6110 non-null   object\n",
            " 5   dbody              6110 non-null   object\n",
            " 6   label              6110 non-null   int64 \n",
            " 7   qtitle_nospecials  6110 non-null   object\n",
            " 8   qbody_nospecials   6110 non-null   object\n",
            " 9   dtitle_nospecials  6110 non-null   object\n",
            " 10  dbody_nospecials   6110 non-null   object\n",
            "dtypes: int64(1), object(10)\n",
            "memory usage: 525.2+ KB\n"
          ]
        }
      ],
      "source": [
        "qrels.info()"
      ]
    },
    {
      "cell_type": "markdown",
      "metadata": {
        "id": "gNnUdVIuWH9A"
      },
      "source": [
        "## Format"
      ]
    },
    {
      "cell_type": "markdown",
      "metadata": {
        "id": "YgXIsMnQwjvj"
      },
      "source": [
        "Pilih (comment/uncomment) format data sesuai skenario yang ingin dijalankan"
      ]
    },
    {
      "cell_type": "markdown",
      "metadata": {
        "id": "6e6cIsqHWiAi"
      },
      "source": [
        "### Judul"
      ]
    },
    {
      "cell_type": "code",
      "execution_count": 28,
      "metadata": {
        "id": "GQlwNxW0WnRB"
      },
      "outputs": [],
      "source": [
        "# qrels.drop_duplicates(inplace=True)\n",
        "# qrels.fillna(' ', inplace=True)\n",
        "# qrels[\"query_nospecials\"] = qrels[\"qtitle_nospecials\"]\n",
        "# qrels[\"doc_nospecials\"] = qrels[\"dtitle_nospecials\"]\n",
        "# qrels = qrels.rename(columns = {\"qtitle\": \"query_raw\", \"dtitle\": \"doc_raw\"})\n",
        "# qrels = qrels[[\"qid\", \"docno\", \"query_raw\", \"query_nospecials\", \"doc_raw\", \"doc_nospecials\", \"label\"]]"
      ]
    },
    {
      "cell_type": "markdown",
      "metadata": {
        "id": "WYDFMJkKWKCD"
      },
      "source": [
        "### Judul + isi"
      ]
    },
    {
      "cell_type": "code",
      "execution_count": 29,
      "metadata": {
        "colab": {
          "base_uri": "https://localhost:8080/",
          "height": 362
        },
        "id": "ZL5RuQmdVxOJ",
        "outputId": "9722356c-38b5-46bb-8ed2-e9c024436d40"
      },
      "outputs": [
        {
          "data": {
            "application/vnd.google.colaboratory.intrinsic+json": {
              "summary": "{\n  \"name\": \"qrels\",\n  \"rows\": 6110,\n  \"fields\": [\n    {\n      \"column\": \"qid\",\n      \"properties\": {\n        \"dtype\": \"category\",\n        \"num_unique_values\": 45,\n        \"samples\": [\n          \"Q45\",\n          \"Q30\",\n          \"Q31\"\n        ],\n        \"semantic_type\": \"\",\n        \"description\": \"\"\n      }\n    },\n    {\n      \"column\": \"docno\",\n      \"properties\": {\n        \"dtype\": \"string\",\n        \"num_unique_values\": 5759,\n        \"samples\": [\n          \"TD-5319\",\n          \"KD-9474\",\n          \"TD-2790\"\n        ],\n        \"semantic_type\": \"\",\n        \"description\": \"\"\n      }\n    },\n    {\n      \"column\": \"query_raw\",\n      \"properties\": {\n        \"dtype\": \"category\",\n        \"num_unique_values\": 45,\n        \"samples\": [\n          \"Infeksi Indung telur. dok, kemarin saya disarankan oleh dokter saya untuk melakukan USG karena saya sering mengalami nyeri perut pada saat menstruasi. dan hasil USG nya ternyata saya mengalami penyakit infeksi indung telur. apa langkah yang saya ambil selanjutnya? sampai saat ini saya hanya membiarkannya karena rasa sakitnya hanya terasa pada waktu menstruasi saja.\",\n          \"Berat Janin. dok usia kandungan saya 15 minggu, berat janin saya 124 gram apakah normal dok?\",\n          \"Bercak Putih di Wajah. hallo dok.. saya ingin bertanya kenapa diwajah anak saya ada bercak putih seperti panu.. usia anak saya 3 bulan apa ya obatnya? terimakasih\"\n        ],\n        \"semantic_type\": \"\",\n        \"description\": \"\"\n      }\n    },\n    {\n      \"column\": \"query_nospecials\",\n      \"properties\": {\n        \"dtype\": \"category\",\n        \"num_unique_values\": 45,\n        \"samples\": [\n          \"Infeksi Indung telur dok kemarin saya disarankan oleh dokter saya untuk melakukan USG karena saya sering mengalami nyeri perut pada saat menstruasi dan hasil USG nya ternyata saya mengalami penyakit infeksi indung telur apa langkah yang saya ambil selanjutnya sampai saat ini saya hanya membiarkannya karena rasa sakitnya hanya terasa pada waktu menstruasi saja \",\n          \"Berat Janin dok usia kandungan saya 15 minggu berat janin saya 124 gram apakah normal dok \",\n          \"Bercak Putih di Wajah hallo dok saya ingin bertanya kenapa diwajah anak saya ada bercak putih seperti panu usia anak saya 3 bulan apa ya obatnya terimakasih\"\n        ],\n        \"semantic_type\": \"\",\n        \"description\": \"\"\n      }\n    },\n    {\n      \"column\": \"doc_raw\",\n      \"properties\": {\n        \"dtype\": \"string\",\n        \"num_unique_values\": 5748,\n        \"samples\": [\n          \"jerawat muncul kembali dan berbekas. selamat siang dok saya mhsi usia 22 tahun   wajah saya berjerawat   lalu saya berobat ke dokter kulit dan kecantikan   dan dikasih produk kecantikan cream siang-malam   acne   totol jerawat dan sabun cuci mukanya juga . sudah 2 bulan saya menggunakan itu semua . jerawat memang sudah tidak memerah lagi   tetapi timbul bentol-bentol kecil di area yang berjerawat   dan noda hitam bekas jerawatnya belum hilang juga . itu kenapa ya dok ? saya hanya tidak mau ketergantungan pada produk itu . saya berobat hanya ingin menghilangkan jerawat bukan memutihkan . terima kasih dok\",\n          \"efek samping pure cambogia ultra. dok   saya mau tanya apa ada efek samping ( jangka pendek dan jangka panjang ) setelah minum pure cambogia ? ? apakah obat ini membuat ketergantungan ? ? terima kasih\",\n          \"penyebab sakit kepala dan benjolan di leher. sore dok . umur saya 14 tahun . saya sering sekali sakit kepala atau pusing . saya tidak tahu alasannya   tetapi pusingnya satu kepala bahkan sampai ke-kepala bagian belakang bawah . saya merasakannya jika saya kecapean atau kepanasan . juga ada benjolan di leher saya di kiri dan kanan kalau di pegang itu mirip biji . dan kayaknya itu nge gedean dok . apa itu ada kaitannya dengan sakit kepala atau pusing saya ? ? terima kasih dok . mohon bantuannya . selamat sore .\"\n        ],\n        \"semantic_type\": \"\",\n        \"description\": \"\"\n      }\n    },\n    {\n      \"column\": \"doc_nospecials\",\n      \"properties\": {\n        \"dtype\": \"string\",\n        \"num_unique_values\": 5747,\n        \"samples\": [\n          \"penyebab sering mimisan dok beberapa waktu ini saya mimisan di hidung kanan pada saat bangun tidur 2 kali langsung mimisan dan siang saat saya dijalan juga mimisan apa sebabnya ya dok terima kasih\",\n          \"flek tanda kehamilankah  pagi dok saya mau tanya saya mengalami flek sudah 4 hari apakah flek ini sebagai pertanda awal akan mens atau kehamilan bagaimana cara membedakannya soalnya kalau flek biasa yang mendahului menstruasi dia cuma muncul pas tanggal mens nah ini sudah lewat tanggal 3 hari tetapi flek terus dan tanda tanda tidak pasti kehamilan sudah saya alami semua saya juga sudah tespek dan memang hasilnya masih negatif saya bingung dok apakah ini gejala kehamilan ataukah karena darah haid saya yang tidak normal dok atau mungkin saya keguguran tanpa saya ketahui kehamilannya terima kasih atas jawaban dokter perempuan 23 tahun 153 cuma 53 kg \",\n          \"gimana cara biang keringat di lengan hilang  saya gatau sejak kapan biang keringat mulai ada di lengan atas saya padahal waktu saya kecil tidak ada biang keringat itu itu mengganggu saya sekali saya malu pakai baju tanpa lengan bahkan jadi susah cari dress soalnya cari yang berlengan saya tidak tahu ini biang keringat atau bukan sudah 4 tahunan atau lebih dan tidak pernah hilang jadi cirinya itu banyak dan kecil tidak gatal warnanya merah tetapi kadang merah sekali lengan atas saya saja yang ada begitunya itu harus diobati pakai apa ya dok apa benar itu biang keringat \"\n        ],\n        \"semantic_type\": \"\",\n        \"description\": \"\"\n      }\n    },\n    {\n      \"column\": \"label\",\n      \"properties\": {\n        \"dtype\": \"number\",\n        \"std\": 0,\n        \"min\": 0,\n        \"max\": 9,\n        \"num_unique_values\": 3,\n        \"samples\": [\n          0,\n          1,\n          9\n        ],\n        \"semantic_type\": \"\",\n        \"description\": \"\"\n      }\n    }\n  ]\n}",
              "type": "dataframe",
              "variable_name": "qrels"
            },
            "text/html": [
              "\n",
              "  <div id=\"df-79366991-64a5-4f23-a05d-7ae37a948700\" class=\"colab-df-container\">\n",
              "    <div>\n",
              "<style scoped>\n",
              "    .dataframe tbody tr th:only-of-type {\n",
              "        vertical-align: middle;\n",
              "    }\n",
              "\n",
              "    .dataframe tbody tr th {\n",
              "        vertical-align: top;\n",
              "    }\n",
              "\n",
              "    .dataframe thead th {\n",
              "        text-align: right;\n",
              "    }\n",
              "</style>\n",
              "<table border=\"1\" class=\"dataframe\">\n",
              "  <thead>\n",
              "    <tr style=\"text-align: right;\">\n",
              "      <th></th>\n",
              "      <th>qid</th>\n",
              "      <th>docno</th>\n",
              "      <th>query_raw</th>\n",
              "      <th>query_nospecials</th>\n",
              "      <th>doc_raw</th>\n",
              "      <th>doc_nospecials</th>\n",
              "      <th>label</th>\n",
              "    </tr>\n",
              "  </thead>\n",
              "  <tbody>\n",
              "    <tr>\n",
              "      <th>0</th>\n",
              "      <td>Q1</td>\n",
              "      <td>KD-14969</td>\n",
              "      <td>Cara mengatasi pusing, lemas dan hidung berair...</td>\n",
              "      <td>Cara mengatasi pusing lemas dan hidung berair ...</td>\n",
              "      <td>mimisan dan polip. malam dok-dok hidung saya m...</td>\n",
              "      <td>mimisan dan polip malam dok dok hidung saya mi...</td>\n",
              "      <td>0</td>\n",
              "    </tr>\n",
              "    <tr>\n",
              "      <th>1</th>\n",
              "      <td>Q1</td>\n",
              "      <td>KD-10780</td>\n",
              "      <td>Cara mengatasi pusing, lemas dan hidung berair...</td>\n",
              "      <td>Cara mengatasi pusing lemas dan hidung berair ...</td>\n",
              "      <td>nyeri kepala dan lendir tidak sedap dari hidun...</td>\n",
              "      <td>nyeri kepala dan lendir tidak sedap dari hidun...</td>\n",
              "      <td>1</td>\n",
              "    </tr>\n",
              "    <tr>\n",
              "      <th>2</th>\n",
              "      <td>Q1</td>\n",
              "      <td>AD-11170</td>\n",
              "      <td>Cara mengatasi pusing, lemas dan hidung berair...</td>\n",
              "      <td>Cara mengatasi pusing lemas dan hidung berair ...</td>\n",
              "      <td>demam   pusing   dan bercak-bercak merah pada ...</td>\n",
              "      <td>demam pusing dan bercak bercak merah pada kuli...</td>\n",
              "      <td>1</td>\n",
              "    </tr>\n",
              "    <tr>\n",
              "      <th>3</th>\n",
              "      <td>Q1</td>\n",
              "      <td>KD-34954</td>\n",
              "      <td>Cara mengatasi pusing, lemas dan hidung berair...</td>\n",
              "      <td>Cara mengatasi pusing lemas dan hidung berair ...</td>\n",
              "      <td>common cold. dok . bermula pada hari jumat kem...</td>\n",
              "      <td>common cold dok bermula pada hari jumat kemari...</td>\n",
              "      <td>1</td>\n",
              "    </tr>\n",
              "    <tr>\n",
              "      <th>4</th>\n",
              "      <td>Q1</td>\n",
              "      <td>KD-42528</td>\n",
              "      <td>Cara mengatasi pusing, lemas dan hidung berair...</td>\n",
              "      <td>Cara mengatasi pusing lemas dan hidung berair ...</td>\n",
              "      <td>ingus dari hidung. selamat malam dok   akhir-a...</td>\n",
              "      <td>ingus dari hidung selamat malam dok akhir akhi...</td>\n",
              "      <td>1</td>\n",
              "    </tr>\n",
              "  </tbody>\n",
              "</table>\n",
              "</div>\n",
              "    <div class=\"colab-df-buttons\">\n",
              "\n",
              "  <div class=\"colab-df-container\">\n",
              "    <button class=\"colab-df-convert\" onclick=\"convertToInteractive('df-79366991-64a5-4f23-a05d-7ae37a948700')\"\n",
              "            title=\"Convert this dataframe to an interactive table.\"\n",
              "            style=\"display:none;\">\n",
              "\n",
              "  <svg xmlns=\"http://www.w3.org/2000/svg\" height=\"24px\" viewBox=\"0 -960 960 960\">\n",
              "    <path d=\"M120-120v-720h720v720H120Zm60-500h600v-160H180v160Zm220 220h160v-160H400v160Zm0 220h160v-160H400v160ZM180-400h160v-160H180v160Zm440 0h160v-160H620v160ZM180-180h160v-160H180v160Zm440 0h160v-160H620v160Z\"/>\n",
              "  </svg>\n",
              "    </button>\n",
              "\n",
              "  <style>\n",
              "    .colab-df-container {\n",
              "      display:flex;\n",
              "      gap: 12px;\n",
              "    }\n",
              "\n",
              "    .colab-df-convert {\n",
              "      background-color: #E8F0FE;\n",
              "      border: none;\n",
              "      border-radius: 50%;\n",
              "      cursor: pointer;\n",
              "      display: none;\n",
              "      fill: #1967D2;\n",
              "      height: 32px;\n",
              "      padding: 0 0 0 0;\n",
              "      width: 32px;\n",
              "    }\n",
              "\n",
              "    .colab-df-convert:hover {\n",
              "      background-color: #E2EBFA;\n",
              "      box-shadow: 0px 1px 2px rgba(60, 64, 67, 0.3), 0px 1px 3px 1px rgba(60, 64, 67, 0.15);\n",
              "      fill: #174EA6;\n",
              "    }\n",
              "\n",
              "    .colab-df-buttons div {\n",
              "      margin-bottom: 4px;\n",
              "    }\n",
              "\n",
              "    [theme=dark] .colab-df-convert {\n",
              "      background-color: #3B4455;\n",
              "      fill: #D2E3FC;\n",
              "    }\n",
              "\n",
              "    [theme=dark] .colab-df-convert:hover {\n",
              "      background-color: #434B5C;\n",
              "      box-shadow: 0px 1px 3px 1px rgba(0, 0, 0, 0.15);\n",
              "      filter: drop-shadow(0px 1px 2px rgba(0, 0, 0, 0.3));\n",
              "      fill: #FFFFFF;\n",
              "    }\n",
              "  </style>\n",
              "\n",
              "    <script>\n",
              "      const buttonEl =\n",
              "        document.querySelector('#df-79366991-64a5-4f23-a05d-7ae37a948700 button.colab-df-convert');\n",
              "      buttonEl.style.display =\n",
              "        google.colab.kernel.accessAllowed ? 'block' : 'none';\n",
              "\n",
              "      async function convertToInteractive(key) {\n",
              "        const element = document.querySelector('#df-79366991-64a5-4f23-a05d-7ae37a948700');\n",
              "        const dataTable =\n",
              "          await google.colab.kernel.invokeFunction('convertToInteractive',\n",
              "                                                    [key], {});\n",
              "        if (!dataTable) return;\n",
              "\n",
              "        const docLinkHtml = 'Like what you see? Visit the ' +\n",
              "          '<a target=\"_blank\" href=https://colab.research.google.com/notebooks/data_table.ipynb>data table notebook</a>'\n",
              "          + ' to learn more about interactive tables.';\n",
              "        element.innerHTML = '';\n",
              "        dataTable['output_type'] = 'display_data';\n",
              "        await google.colab.output.renderOutput(dataTable, element);\n",
              "        const docLink = document.createElement('div');\n",
              "        docLink.innerHTML = docLinkHtml;\n",
              "        element.appendChild(docLink);\n",
              "      }\n",
              "    </script>\n",
              "  </div>\n",
              "\n",
              "\n",
              "<div id=\"df-0d032407-9252-47aa-aac0-8ac0f5cf0ca8\">\n",
              "  <button class=\"colab-df-quickchart\" onclick=\"quickchart('df-0d032407-9252-47aa-aac0-8ac0f5cf0ca8')\"\n",
              "            title=\"Suggest charts\"\n",
              "            style=\"display:none;\">\n",
              "\n",
              "<svg xmlns=\"http://www.w3.org/2000/svg\" height=\"24px\"viewBox=\"0 0 24 24\"\n",
              "     width=\"24px\">\n",
              "    <g>\n",
              "        <path d=\"M19 3H5c-1.1 0-2 .9-2 2v14c0 1.1.9 2 2 2h14c1.1 0 2-.9 2-2V5c0-1.1-.9-2-2-2zM9 17H7v-7h2v7zm4 0h-2V7h2v10zm4 0h-2v-4h2v4z\"/>\n",
              "    </g>\n",
              "</svg>\n",
              "  </button>\n",
              "\n",
              "<style>\n",
              "  .colab-df-quickchart {\n",
              "      --bg-color: #E8F0FE;\n",
              "      --fill-color: #1967D2;\n",
              "      --hover-bg-color: #E2EBFA;\n",
              "      --hover-fill-color: #174EA6;\n",
              "      --disabled-fill-color: #AAA;\n",
              "      --disabled-bg-color: #DDD;\n",
              "  }\n",
              "\n",
              "  [theme=dark] .colab-df-quickchart {\n",
              "      --bg-color: #3B4455;\n",
              "      --fill-color: #D2E3FC;\n",
              "      --hover-bg-color: #434B5C;\n",
              "      --hover-fill-color: #FFFFFF;\n",
              "      --disabled-bg-color: #3B4455;\n",
              "      --disabled-fill-color: #666;\n",
              "  }\n",
              "\n",
              "  .colab-df-quickchart {\n",
              "    background-color: var(--bg-color);\n",
              "    border: none;\n",
              "    border-radius: 50%;\n",
              "    cursor: pointer;\n",
              "    display: none;\n",
              "    fill: var(--fill-color);\n",
              "    height: 32px;\n",
              "    padding: 0;\n",
              "    width: 32px;\n",
              "  }\n",
              "\n",
              "  .colab-df-quickchart:hover {\n",
              "    background-color: var(--hover-bg-color);\n",
              "    box-shadow: 0 1px 2px rgba(60, 64, 67, 0.3), 0 1px 3px 1px rgba(60, 64, 67, 0.15);\n",
              "    fill: var(--button-hover-fill-color);\n",
              "  }\n",
              "\n",
              "  .colab-df-quickchart-complete:disabled,\n",
              "  .colab-df-quickchart-complete:disabled:hover {\n",
              "    background-color: var(--disabled-bg-color);\n",
              "    fill: var(--disabled-fill-color);\n",
              "    box-shadow: none;\n",
              "  }\n",
              "\n",
              "  .colab-df-spinner {\n",
              "    border: 2px solid var(--fill-color);\n",
              "    border-color: transparent;\n",
              "    border-bottom-color: var(--fill-color);\n",
              "    animation:\n",
              "      spin 1s steps(1) infinite;\n",
              "  }\n",
              "\n",
              "  @keyframes spin {\n",
              "    0% {\n",
              "      border-color: transparent;\n",
              "      border-bottom-color: var(--fill-color);\n",
              "      border-left-color: var(--fill-color);\n",
              "    }\n",
              "    20% {\n",
              "      border-color: transparent;\n",
              "      border-left-color: var(--fill-color);\n",
              "      border-top-color: var(--fill-color);\n",
              "    }\n",
              "    30% {\n",
              "      border-color: transparent;\n",
              "      border-left-color: var(--fill-color);\n",
              "      border-top-color: var(--fill-color);\n",
              "      border-right-color: var(--fill-color);\n",
              "    }\n",
              "    40% {\n",
              "      border-color: transparent;\n",
              "      border-right-color: var(--fill-color);\n",
              "      border-top-color: var(--fill-color);\n",
              "    }\n",
              "    60% {\n",
              "      border-color: transparent;\n",
              "      border-right-color: var(--fill-color);\n",
              "    }\n",
              "    80% {\n",
              "      border-color: transparent;\n",
              "      border-right-color: var(--fill-color);\n",
              "      border-bottom-color: var(--fill-color);\n",
              "    }\n",
              "    90% {\n",
              "      border-color: transparent;\n",
              "      border-bottom-color: var(--fill-color);\n",
              "    }\n",
              "  }\n",
              "</style>\n",
              "\n",
              "  <script>\n",
              "    async function quickchart(key) {\n",
              "      const quickchartButtonEl =\n",
              "        document.querySelector('#' + key + ' button');\n",
              "      quickchartButtonEl.disabled = true;  // To prevent multiple clicks.\n",
              "      quickchartButtonEl.classList.add('colab-df-spinner');\n",
              "      try {\n",
              "        const charts = await google.colab.kernel.invokeFunction(\n",
              "            'suggestCharts', [key], {});\n",
              "      } catch (error) {\n",
              "        console.error('Error during call to suggestCharts:', error);\n",
              "      }\n",
              "      quickchartButtonEl.classList.remove('colab-df-spinner');\n",
              "      quickchartButtonEl.classList.add('colab-df-quickchart-complete');\n",
              "    }\n",
              "    (() => {\n",
              "      let quickchartButtonEl =\n",
              "        document.querySelector('#df-0d032407-9252-47aa-aac0-8ac0f5cf0ca8 button');\n",
              "      quickchartButtonEl.style.display =\n",
              "        google.colab.kernel.accessAllowed ? 'block' : 'none';\n",
              "    })();\n",
              "  </script>\n",
              "</div>\n",
              "    </div>\n",
              "  </div>\n"
            ],
            "text/plain": [
              "  qid     docno                                          query_raw  \\\n",
              "0  Q1  KD-14969  Cara mengatasi pusing, lemas dan hidung berair...   \n",
              "1  Q1  KD-10780  Cara mengatasi pusing, lemas dan hidung berair...   \n",
              "2  Q1  AD-11170  Cara mengatasi pusing, lemas dan hidung berair...   \n",
              "3  Q1  KD-34954  Cara mengatasi pusing, lemas dan hidung berair...   \n",
              "4  Q1  KD-42528  Cara mengatasi pusing, lemas dan hidung berair...   \n",
              "\n",
              "                                    query_nospecials  \\\n",
              "0  Cara mengatasi pusing lemas dan hidung berair ...   \n",
              "1  Cara mengatasi pusing lemas dan hidung berair ...   \n",
              "2  Cara mengatasi pusing lemas dan hidung berair ...   \n",
              "3  Cara mengatasi pusing lemas dan hidung berair ...   \n",
              "4  Cara mengatasi pusing lemas dan hidung berair ...   \n",
              "\n",
              "                                             doc_raw  \\\n",
              "0  mimisan dan polip. malam dok-dok hidung saya m...   \n",
              "1  nyeri kepala dan lendir tidak sedap dari hidun...   \n",
              "2  demam   pusing   dan bercak-bercak merah pada ...   \n",
              "3  common cold. dok . bermula pada hari jumat kem...   \n",
              "4  ingus dari hidung. selamat malam dok   akhir-a...   \n",
              "\n",
              "                                      doc_nospecials  label  \n",
              "0  mimisan dan polip malam dok dok hidung saya mi...      0  \n",
              "1  nyeri kepala dan lendir tidak sedap dari hidun...      1  \n",
              "2  demam pusing dan bercak bercak merah pada kuli...      1  \n",
              "3  common cold dok bermula pada hari jumat kemari...      1  \n",
              "4  ingus dari hidung selamat malam dok akhir akhi...      1  "
            ]
          },
          "execution_count": 29,
          "metadata": {},
          "output_type": "execute_result"
        }
      ],
      "source": [
        "qrels.drop_duplicates(inplace=True)\n",
        "qrels.fillna(' ', inplace=True)\n",
        "\n",
        "qrels[\"query_nospecials\"] = qrels[\"qtitle_nospecials\"] + \" \" + qrels[\"qbody_nospecials\"]\n",
        "qrels[\"query_raw\"] = qrels[\"qtitle\"] + \". \" + qrels[\"qbody\"]\n",
        "\n",
        "qrels[\"doc_nospecials\"] = qrels[\"dtitle_nospecials\"] + \" \" + qrels[\"dbody_nospecials\"]\n",
        "qrels[\"doc_raw\"] = qrels[\"dtitle\"] + \". \" + qrels[\"dbody\"]\n",
        "\n",
        "qrels = qrels[[\"qid\", \"docno\", \"query_raw\", \"query_nospecials\", \"doc_raw\", \"doc_nospecials\", \"label\"]]\n",
        "\n",
        "qrels.head()"
      ]
    },
    {
      "cell_type": "markdown",
      "metadata": {
        "id": "ClbqMTDYwWyM"
      },
      "source": [
        "# Preprocess Queries"
      ]
    },
    {
      "cell_type": "code",
      "execution_count": 30,
      "metadata": {
        "colab": {
          "base_uri": "https://localhost:8080/"
        },
        "id": "Bpp0MWZpmMG9",
        "outputId": "e9d65c81-a9bd-4b52-b82a-3a2f79f58e56"
      },
      "outputs": [
        {
          "name": "stdout",
          "output_type": "stream",
          "text": [
            "<class 'pandas.core.frame.DataFrame'>\n",
            "Index: 45 entries, 0 to 5941\n",
            "Data columns (total 3 columns):\n",
            " #   Column            Non-Null Count  Dtype \n",
            "---  ------            --------------  ----- \n",
            " 0   qid               45 non-null     object\n",
            " 1   query_raw         45 non-null     object\n",
            " 2   query_nospecials  45 non-null     object\n",
            "dtypes: object(3)\n",
            "memory usage: 1.4+ KB\n"
          ]
        }
      ],
      "source": [
        "queries = qrels[[\"qid\", \"query_raw\", \"query_nospecials\"]].drop_duplicates()\n",
        "queries.info()"
      ]
    },
    {
      "cell_type": "markdown",
      "metadata": {
        "id": "XlTQDY0wTKfj"
      },
      "source": [
        "## Preprocessing Variation"
      ]
    },
    {
      "cell_type": "code",
      "execution_count": 31,
      "metadata": {
        "colab": {
          "base_uri": "https://localhost:8080/"
        },
        "id": "Soa6yj3lweB_",
        "outputId": "a0b4aba3-3fed-476d-add4-7e77e9cd262b"
      },
      "outputs": [
        {
          "name": "stdout",
          "output_type": "stream",
          "text": [
            "CPU times: user 788 ms, sys: 32.2 ms, total: 820 ms\n",
            "Wall time: 808 ms\n"
          ]
        }
      ],
      "source": [
        "%%time\n",
        "query, query_stemmed, query_nostopwords, query_normalized, \\\n",
        "query_stemmed_nostopwords, query_stemmed_normalized, query_normalized_nostopwords, \\\n",
        "query_stemmed_normalized_nostopwords = [], [], [], [], [], [], [], []\n",
        "\n",
        "for index, line in queries.iterrows():\n",
        "  query_stemmed.append(stemmer.stem(line['query_nospecials']))\n",
        "  query_nostopwords.append(remove_stopwords(line['query_nospecials']))\n",
        "  query_normalized.append(normalisasi(line['query_nospecials']))\n",
        "queries['query_stemmed'] = query_stemmed\n",
        "queries['query_nostopwords'] = query_nostopwords\n",
        "queries['query_normalized'] = query_normalized\n",
        "\n",
        "for index, line in queries.iterrows():\n",
        "  query_stemmed_nostopwords.append(remove_stopwords(line['query_stemmed']))\n",
        "  query_stemmed_normalized.append(normalisasi(line['query_stemmed']))\n",
        "  query_normalized_nostopwords.append(remove_stopwords(line['query_normalized']))\n",
        "queries['query_stemmed_nostopwords'] = query_stemmed_nostopwords\n",
        "queries['query_stemmed_normalized'] = query_stemmed_normalized\n",
        "queries['query_normalized_nostopwords'] = query_normalized_nostopwords\n",
        "\n",
        "for index, line in queries.iterrows():\n",
        "  query_stemmed_normalized_nostopwords.append(remove_stopwords(line['query_stemmed_normalized']))\n",
        "queries['query_stemmed_normalized_nostopwords'] = query_stemmed_normalized_nostopwords"
      ]
    },
    {
      "cell_type": "code",
      "execution_count": 34,
      "metadata": {
        "id": "Psx9PlbHweB_"
      },
      "outputs": [],
      "source": [
        "# Ganti nama kolom query sesuai skenario pemrosesan data yang ingin dicoba\n",
        "queries = queries.rename(columns = {\"query_nostopwords\": \"query\"})\n",
        "queries = queries[['qid', 'query_raw', 'query']]"
      ]
    },
    {
      "cell_type": "code",
      "execution_count": 35,
      "metadata": {
        "colab": {
          "base_uri": "https://localhost:8080/",
          "height": 206
        },
        "id": "S-m15e3uzyGU",
        "outputId": "82c5b750-1637-4f6a-dcd4-1cacc8e40eab"
      },
      "outputs": [
        {
          "data": {
            "application/vnd.google.colaboratory.intrinsic+json": {
              "summary": "{\n  \"name\": \"queries\",\n  \"rows\": 45,\n  \"fields\": [\n    {\n      \"column\": \"qid\",\n      \"properties\": {\n        \"dtype\": \"string\",\n        \"num_unique_values\": 45,\n        \"samples\": [\n          \"Q45\",\n          \"Q30\",\n          \"Q31\"\n        ],\n        \"semantic_type\": \"\",\n        \"description\": \"\"\n      }\n    },\n    {\n      \"column\": \"query_raw\",\n      \"properties\": {\n        \"dtype\": \"string\",\n        \"num_unique_values\": 45,\n        \"samples\": [\n          \"Infeksi Indung telur. dok, kemarin saya disarankan oleh dokter saya untuk melakukan USG karena saya sering mengalami nyeri perut pada saat menstruasi. dan hasil USG nya ternyata saya mengalami penyakit infeksi indung telur. apa langkah yang saya ambil selanjutnya? sampai saat ini saya hanya membiarkannya karena rasa sakitnya hanya terasa pada waktu menstruasi saja.\",\n          \"Berat Janin. dok usia kandungan saya 15 minggu, berat janin saya 124 gram apakah normal dok?\",\n          \"Bercak Putih di Wajah. hallo dok.. saya ingin bertanya kenapa diwajah anak saya ada bercak putih seperti panu.. usia anak saya 3 bulan apa ya obatnya? terimakasih\"\n        ],\n        \"semantic_type\": \"\",\n        \"description\": \"\"\n      }\n    },\n    {\n      \"column\": \"query\",\n      \"properties\": {\n        \"dtype\": \"string\",\n        \"num_unique_values\": 45,\n        \"samples\": [\n          \"infeksi indung telur dok kemarin disarankan dokter usg mengalami nyeri perut menstruasi hasil usg nya mengalami penyakit infeksi indung telur langkah ambil membiarkannya sakitnya menstruasi\",\n          \"berat janin dok usia kandungan 15 minggu berat janin 124 gram normal dok\",\n          \"bercak putih wajah hallo dok diwajah anak bercak putih panu usia anak 3 ya obatnya terimakasih\"\n        ],\n        \"semantic_type\": \"\",\n        \"description\": \"\"\n      }\n    }\n  ]\n}",
              "type": "dataframe",
              "variable_name": "queries"
            },
            "text/html": [
              "\n",
              "  <div id=\"df-cd64a695-5895-492d-94df-af4f008cbed3\" class=\"colab-df-container\">\n",
              "    <div>\n",
              "<style scoped>\n",
              "    .dataframe tbody tr th:only-of-type {\n",
              "        vertical-align: middle;\n",
              "    }\n",
              "\n",
              "    .dataframe tbody tr th {\n",
              "        vertical-align: top;\n",
              "    }\n",
              "\n",
              "    .dataframe thead th {\n",
              "        text-align: right;\n",
              "    }\n",
              "</style>\n",
              "<table border=\"1\" class=\"dataframe\">\n",
              "  <thead>\n",
              "    <tr style=\"text-align: right;\">\n",
              "      <th></th>\n",
              "      <th>qid</th>\n",
              "      <th>query_raw</th>\n",
              "      <th>query</th>\n",
              "    </tr>\n",
              "  </thead>\n",
              "  <tbody>\n",
              "    <tr>\n",
              "      <th>0</th>\n",
              "      <td>Q1</td>\n",
              "      <td>Cara mengatasi pusing, lemas dan hidung berair...</td>\n",
              "      <td>mengatasi pusing lemas hidung berair malam dok...</td>\n",
              "    </tr>\n",
              "    <tr>\n",
              "      <th>174</th>\n",
              "      <td>Q2</td>\n",
              "      <td>Telinga berdengung sebelah kiri. Selamat pagi ...</td>\n",
              "      <td>telinga berdengung sebelah kiri selamat pagi d...</td>\n",
              "    </tr>\n",
              "    <tr>\n",
              "      <th>308</th>\n",
              "      <td>Q3</td>\n",
              "      <td>Benjolan di sekitar kelamin. Sore dok..Maaf do...</td>\n",
              "      <td>benjolan kelamin sore dok maaf dok 4 mengalami...</td>\n",
              "    </tr>\n",
              "    <tr>\n",
              "      <th>472</th>\n",
              "      <td>Q4</td>\n",
              "      <td>Makanan untuk penderita penyakit lambung dan l...</td>\n",
              "      <td>makanan penderita penyakit lambung liver dok m...</td>\n",
              "    </tr>\n",
              "    <tr>\n",
              "      <th>624</th>\n",
              "      <td>Q5</td>\n",
              "      <td>Kebiasaan melamun atau berkhayal secara berleb...</td>\n",
              "      <td>kebiasaan melamun berkhayal dok pengidap malad...</td>\n",
              "    </tr>\n",
              "  </tbody>\n",
              "</table>\n",
              "</div>\n",
              "    <div class=\"colab-df-buttons\">\n",
              "\n",
              "  <div class=\"colab-df-container\">\n",
              "    <button class=\"colab-df-convert\" onclick=\"convertToInteractive('df-cd64a695-5895-492d-94df-af4f008cbed3')\"\n",
              "            title=\"Convert this dataframe to an interactive table.\"\n",
              "            style=\"display:none;\">\n",
              "\n",
              "  <svg xmlns=\"http://www.w3.org/2000/svg\" height=\"24px\" viewBox=\"0 -960 960 960\">\n",
              "    <path d=\"M120-120v-720h720v720H120Zm60-500h600v-160H180v160Zm220 220h160v-160H400v160Zm0 220h160v-160H400v160ZM180-400h160v-160H180v160Zm440 0h160v-160H620v160ZM180-180h160v-160H180v160Zm440 0h160v-160H620v160Z\"/>\n",
              "  </svg>\n",
              "    </button>\n",
              "\n",
              "  <style>\n",
              "    .colab-df-container {\n",
              "      display:flex;\n",
              "      gap: 12px;\n",
              "    }\n",
              "\n",
              "    .colab-df-convert {\n",
              "      background-color: #E8F0FE;\n",
              "      border: none;\n",
              "      border-radius: 50%;\n",
              "      cursor: pointer;\n",
              "      display: none;\n",
              "      fill: #1967D2;\n",
              "      height: 32px;\n",
              "      padding: 0 0 0 0;\n",
              "      width: 32px;\n",
              "    }\n",
              "\n",
              "    .colab-df-convert:hover {\n",
              "      background-color: #E2EBFA;\n",
              "      box-shadow: 0px 1px 2px rgba(60, 64, 67, 0.3), 0px 1px 3px 1px rgba(60, 64, 67, 0.15);\n",
              "      fill: #174EA6;\n",
              "    }\n",
              "\n",
              "    .colab-df-buttons div {\n",
              "      margin-bottom: 4px;\n",
              "    }\n",
              "\n",
              "    [theme=dark] .colab-df-convert {\n",
              "      background-color: #3B4455;\n",
              "      fill: #D2E3FC;\n",
              "    }\n",
              "\n",
              "    [theme=dark] .colab-df-convert:hover {\n",
              "      background-color: #434B5C;\n",
              "      box-shadow: 0px 1px 3px 1px rgba(0, 0, 0, 0.15);\n",
              "      filter: drop-shadow(0px 1px 2px rgba(0, 0, 0, 0.3));\n",
              "      fill: #FFFFFF;\n",
              "    }\n",
              "  </style>\n",
              "\n",
              "    <script>\n",
              "      const buttonEl =\n",
              "        document.querySelector('#df-cd64a695-5895-492d-94df-af4f008cbed3 button.colab-df-convert');\n",
              "      buttonEl.style.display =\n",
              "        google.colab.kernel.accessAllowed ? 'block' : 'none';\n",
              "\n",
              "      async function convertToInteractive(key) {\n",
              "        const element = document.querySelector('#df-cd64a695-5895-492d-94df-af4f008cbed3');\n",
              "        const dataTable =\n",
              "          await google.colab.kernel.invokeFunction('convertToInteractive',\n",
              "                                                    [key], {});\n",
              "        if (!dataTable) return;\n",
              "\n",
              "        const docLinkHtml = 'Like what you see? Visit the ' +\n",
              "          '<a target=\"_blank\" href=https://colab.research.google.com/notebooks/data_table.ipynb>data table notebook</a>'\n",
              "          + ' to learn more about interactive tables.';\n",
              "        element.innerHTML = '';\n",
              "        dataTable['output_type'] = 'display_data';\n",
              "        await google.colab.output.renderOutput(dataTable, element);\n",
              "        const docLink = document.createElement('div');\n",
              "        docLink.innerHTML = docLinkHtml;\n",
              "        element.appendChild(docLink);\n",
              "      }\n",
              "    </script>\n",
              "  </div>\n",
              "\n",
              "\n",
              "<div id=\"df-d77b6612-a32d-4fd4-b3a7-fcb69d42de39\">\n",
              "  <button class=\"colab-df-quickchart\" onclick=\"quickchart('df-d77b6612-a32d-4fd4-b3a7-fcb69d42de39')\"\n",
              "            title=\"Suggest charts\"\n",
              "            style=\"display:none;\">\n",
              "\n",
              "<svg xmlns=\"http://www.w3.org/2000/svg\" height=\"24px\"viewBox=\"0 0 24 24\"\n",
              "     width=\"24px\">\n",
              "    <g>\n",
              "        <path d=\"M19 3H5c-1.1 0-2 .9-2 2v14c0 1.1.9 2 2 2h14c1.1 0 2-.9 2-2V5c0-1.1-.9-2-2-2zM9 17H7v-7h2v7zm4 0h-2V7h2v10zm4 0h-2v-4h2v4z\"/>\n",
              "    </g>\n",
              "</svg>\n",
              "  </button>\n",
              "\n",
              "<style>\n",
              "  .colab-df-quickchart {\n",
              "      --bg-color: #E8F0FE;\n",
              "      --fill-color: #1967D2;\n",
              "      --hover-bg-color: #E2EBFA;\n",
              "      --hover-fill-color: #174EA6;\n",
              "      --disabled-fill-color: #AAA;\n",
              "      --disabled-bg-color: #DDD;\n",
              "  }\n",
              "\n",
              "  [theme=dark] .colab-df-quickchart {\n",
              "      --bg-color: #3B4455;\n",
              "      --fill-color: #D2E3FC;\n",
              "      --hover-bg-color: #434B5C;\n",
              "      --hover-fill-color: #FFFFFF;\n",
              "      --disabled-bg-color: #3B4455;\n",
              "      --disabled-fill-color: #666;\n",
              "  }\n",
              "\n",
              "  .colab-df-quickchart {\n",
              "    background-color: var(--bg-color);\n",
              "    border: none;\n",
              "    border-radius: 50%;\n",
              "    cursor: pointer;\n",
              "    display: none;\n",
              "    fill: var(--fill-color);\n",
              "    height: 32px;\n",
              "    padding: 0;\n",
              "    width: 32px;\n",
              "  }\n",
              "\n",
              "  .colab-df-quickchart:hover {\n",
              "    background-color: var(--hover-bg-color);\n",
              "    box-shadow: 0 1px 2px rgba(60, 64, 67, 0.3), 0 1px 3px 1px rgba(60, 64, 67, 0.15);\n",
              "    fill: var(--button-hover-fill-color);\n",
              "  }\n",
              "\n",
              "  .colab-df-quickchart-complete:disabled,\n",
              "  .colab-df-quickchart-complete:disabled:hover {\n",
              "    background-color: var(--disabled-bg-color);\n",
              "    fill: var(--disabled-fill-color);\n",
              "    box-shadow: none;\n",
              "  }\n",
              "\n",
              "  .colab-df-spinner {\n",
              "    border: 2px solid var(--fill-color);\n",
              "    border-color: transparent;\n",
              "    border-bottom-color: var(--fill-color);\n",
              "    animation:\n",
              "      spin 1s steps(1) infinite;\n",
              "  }\n",
              "\n",
              "  @keyframes spin {\n",
              "    0% {\n",
              "      border-color: transparent;\n",
              "      border-bottom-color: var(--fill-color);\n",
              "      border-left-color: var(--fill-color);\n",
              "    }\n",
              "    20% {\n",
              "      border-color: transparent;\n",
              "      border-left-color: var(--fill-color);\n",
              "      border-top-color: var(--fill-color);\n",
              "    }\n",
              "    30% {\n",
              "      border-color: transparent;\n",
              "      border-left-color: var(--fill-color);\n",
              "      border-top-color: var(--fill-color);\n",
              "      border-right-color: var(--fill-color);\n",
              "    }\n",
              "    40% {\n",
              "      border-color: transparent;\n",
              "      border-right-color: var(--fill-color);\n",
              "      border-top-color: var(--fill-color);\n",
              "    }\n",
              "    60% {\n",
              "      border-color: transparent;\n",
              "      border-right-color: var(--fill-color);\n",
              "    }\n",
              "    80% {\n",
              "      border-color: transparent;\n",
              "      border-right-color: var(--fill-color);\n",
              "      border-bottom-color: var(--fill-color);\n",
              "    }\n",
              "    90% {\n",
              "      border-color: transparent;\n",
              "      border-bottom-color: var(--fill-color);\n",
              "    }\n",
              "  }\n",
              "</style>\n",
              "\n",
              "  <script>\n",
              "    async function quickchart(key) {\n",
              "      const quickchartButtonEl =\n",
              "        document.querySelector('#' + key + ' button');\n",
              "      quickchartButtonEl.disabled = true;  // To prevent multiple clicks.\n",
              "      quickchartButtonEl.classList.add('colab-df-spinner');\n",
              "      try {\n",
              "        const charts = await google.colab.kernel.invokeFunction(\n",
              "            'suggestCharts', [key], {});\n",
              "      } catch (error) {\n",
              "        console.error('Error during call to suggestCharts:', error);\n",
              "      }\n",
              "      quickchartButtonEl.classList.remove('colab-df-spinner');\n",
              "      quickchartButtonEl.classList.add('colab-df-quickchart-complete');\n",
              "    }\n",
              "    (() => {\n",
              "      let quickchartButtonEl =\n",
              "        document.querySelector('#df-d77b6612-a32d-4fd4-b3a7-fcb69d42de39 button');\n",
              "      quickchartButtonEl.style.display =\n",
              "        google.colab.kernel.accessAllowed ? 'block' : 'none';\n",
              "    })();\n",
              "  </script>\n",
              "</div>\n",
              "    </div>\n",
              "  </div>\n"
            ],
            "text/plain": [
              "    qid                                          query_raw  \\\n",
              "0    Q1  Cara mengatasi pusing, lemas dan hidung berair...   \n",
              "174  Q2  Telinga berdengung sebelah kiri. Selamat pagi ...   \n",
              "308  Q3  Benjolan di sekitar kelamin. Sore dok..Maaf do...   \n",
              "472  Q4  Makanan untuk penderita penyakit lambung dan l...   \n",
              "624  Q5  Kebiasaan melamun atau berkhayal secara berleb...   \n",
              "\n",
              "                                                 query  \n",
              "0    mengatasi pusing lemas hidung berair malam dok...  \n",
              "174  telinga berdengung sebelah kiri selamat pagi d...  \n",
              "308  benjolan kelamin sore dok maaf dok 4 mengalami...  \n",
              "472  makanan penderita penyakit lambung liver dok m...  \n",
              "624  kebiasaan melamun berkhayal dok pengidap malad...  "
            ]
          },
          "execution_count": 35,
          "metadata": {},
          "output_type": "execute_result"
        }
      ],
      "source": [
        "queries.head()"
      ]
    },
    {
      "cell_type": "markdown",
      "metadata": {
        "id": "U68-iqFV6YCA"
      },
      "source": [
        "## Drop Duplicates"
      ]
    },
    {
      "cell_type": "code",
      "execution_count": 36,
      "metadata": {
        "id": "T0fJseMmuYNE"
      },
      "outputs": [],
      "source": [
        "queries.drop_duplicates(inplace=True)"
      ]
    },
    {
      "cell_type": "markdown",
      "metadata": {
        "id": "gJRaVxB6MAqD"
      },
      "source": [
        "## Drop Missing Values"
      ]
    },
    {
      "cell_type": "code",
      "execution_count": 37,
      "metadata": {
        "colab": {
          "base_uri": "https://localhost:8080/"
        },
        "id": "mdX_v8GxMCNO",
        "outputId": "867605a7-c32a-49d4-b4ed-ad32b6e781be"
      },
      "outputs": [
        {
          "name": "stdout",
          "output_type": "stream",
          "text": [
            "<class 'pandas.core.frame.DataFrame'>\n",
            "Index: 45 entries, 0 to 5941\n",
            "Data columns (total 3 columns):\n",
            " #   Column     Non-Null Count  Dtype \n",
            "---  ------     --------------  ----- \n",
            " 0   qid        45 non-null     object\n",
            " 1   query_raw  45 non-null     object\n",
            " 2   query      45 non-null     object\n",
            "dtypes: object(3)\n",
            "memory usage: 1.4+ KB\n"
          ]
        }
      ],
      "source": [
        "queries.dropna(subset=['query'], inplace=True)\n",
        "\n",
        "indexEmptyData = queries[(queries['query'] == '') | (queries['query'] == ' ') | (queries['query'] == '.')].index\n",
        "queries.drop(indexEmptyData, inplace=True)\n",
        "\n",
        "queries.info()"
      ]
    },
    {
      "cell_type": "markdown",
      "metadata": {
        "id": "vH81pej3-fxD"
      },
      "source": [
        "# Index"
      ]
    },
    {
      "cell_type": "markdown",
      "metadata": {
        "id": "clouOg1HbR2n"
      },
      "source": [
        "## Indexing"
      ]
    },
    {
      "cell_type": "code",
      "execution_count": 38,
      "metadata": {
        "colab": {
          "base_uri": "https://localhost:8080/"
        },
        "id": "fr_3EufAeDiK",
        "outputId": "0ea59723-61e0-43dd-ba9c-df94bdd03248"
      },
      "outputs": [
        {
          "name": "stdout",
          "output_type": "stream",
          "text": [
            "<class 'pandas.core.frame.DataFrame'>\n",
            "Index: 86723 entries, 0 to 86730\n",
            "Data columns (total 3 columns):\n",
            " #   Column   Non-Null Count  Dtype \n",
            "---  ------   --------------  ----- \n",
            " 0   docno    86723 non-null  object\n",
            " 1   text     86723 non-null  object\n",
            " 2   keluhan  86723 non-null  object\n",
            "dtypes: object(3)\n",
            "memory usage: 2.6+ MB\n",
            "CPU times: user 1min 31s, sys: 1.23 s, total: 1min 32s\n",
            "Wall time: 1min 33s\n"
          ]
        }
      ],
      "source": [
        "%%time\n",
        "# input for PyTerrier indexer must be a dataframe containing \"docno\" and \"text\"\n",
        "\n",
        "collection = data.rename(columns = {\"keluhan_raw\": \"text\"})\n",
        "\n",
        "!rm -rf ./medical_ir_index\n",
        "pd_indexer = pt.DFIndexer(\"./medical_ir_index\", \\\n",
        "                          type = pt.index.IndexingType(1), \\\n",
        "                          tokeniser = \"UTFTokeniser\", \\\n",
        "                          stemmer = None, \\\n",
        "                          stopwords = None, \\\n",
        "                          blocks = True)\n",
        "index_ref = pd_indexer.index(collection[\"keluhan\"], collection)\n",
        "\n",
        "collection.info()"
      ]
    },
    {
      "cell_type": "markdown",
      "metadata": {
        "id": "x74yC9udRn8a"
      },
      "source": [
        "## Index Overview"
      ]
    },
    {
      "cell_type": "code",
      "execution_count": 39,
      "metadata": {
        "colab": {
          "base_uri": "https://localhost:8080/",
          "height": 206
        },
        "id": "ayg4sY1_RBCD",
        "outputId": "96a8b981-b380-4d3f-8fe9-830d1da8bbaa"
      },
      "outputs": [
        {
          "data": {
            "application/vnd.google.colaboratory.intrinsic+json": {
              "summary": "{\n  \"name\": \"collection\",\n  \"rows\": 86723,\n  \"fields\": [\n    {\n      \"column\": \"docno\",\n      \"properties\": {\n        \"dtype\": \"string\",\n        \"num_unique_values\": 86723,\n        \"samples\": [\n          \"KD-43109\",\n          \"KD-38107\",\n          \"KD-14027\"\n        ],\n        \"semantic_type\": \"\",\n        \"description\": \"\"\n      }\n    },\n    {\n      \"column\": \"text\",\n      \"properties\": {\n        \"dtype\": \"string\",\n        \"num_unique_values\": 86188,\n        \"samples\": [\n          \"Gejalan dan pengobatan paru-paru basah. dok, saya mau tanya gejala paru paru basah itu apa saja dok? terus cara pengobatan nya bagaimana?\",\n          \"Olahraga Untuk Meninggikan Badan. Olahraga apa saja yang dapat mempercepat pertumbuhan tinggi badan remaja usia 16 ? apakah loncat-loncat (skipping) juga mendukung?\",\n          \"Makanan yang dilarang untuk penderita ISPA. selamat malam dok. anak saya sedang mengalami ispa boleh kah anakku mengkonsumsi makanan seperti kacang,jagung,dan ikan seperti tongkol. mohon info nya terima kasih.\"\n        ],\n        \"semantic_type\": \"\",\n        \"description\": \"\"\n      }\n    },\n    {\n      \"column\": \"keluhan\",\n      \"properties\": {\n        \"dtype\": \"string\",\n        \"num_unique_values\": 85774,\n        \"samples\": [\n          \"solusi penyakit varikokel dok dok pasien kena varikokel solusi penyakit varikokel dok operasi operasi keturunan dok mohon penjelasannya dok terima kasih\",\n          \"cabut gigi sakit dokter gigi bolong tambal takut cabut gigi dokter gigi sakit teknologi canggih obat cairan dokter gigi matiin sakit suntik takut suntik\",\n          \"benjolan vagina dok wilda umur 22 th menikah mmpunyai kista bartolin dibgian bibir vagina sbelah kiri stahun didlem vagina letak kista bartolin benjolan keras ya dok konsultasi dokter kandungan menyarankan mnikah tindakan operasi status nona solusi ya dok trimaksh dok\"\n        ],\n        \"semantic_type\": \"\",\n        \"description\": \"\"\n      }\n    }\n  ]\n}",
              "type": "dataframe",
              "variable_name": "collection"
            },
            "text/html": [
              "\n",
              "  <div id=\"df-85b4ed4a-8e60-4958-a800-b8a12e25d806\" class=\"colab-df-container\">\n",
              "    <div>\n",
              "<style scoped>\n",
              "    .dataframe tbody tr th:only-of-type {\n",
              "        vertical-align: middle;\n",
              "    }\n",
              "\n",
              "    .dataframe tbody tr th {\n",
              "        vertical-align: top;\n",
              "    }\n",
              "\n",
              "    .dataframe thead th {\n",
              "        text-align: right;\n",
              "    }\n",
              "</style>\n",
              "<table border=\"1\" class=\"dataframe\">\n",
              "  <thead>\n",
              "    <tr style=\"text-align: right;\">\n",
              "      <th></th>\n",
              "      <th>docno</th>\n",
              "      <th>text</th>\n",
              "      <th>keluhan</th>\n",
              "    </tr>\n",
              "  </thead>\n",
              "  <tbody>\n",
              "    <tr>\n",
              "      <th>0</th>\n",
              "      <td>DS-1</td>\n",
              "      <td>Mengapa Keringat Badan Sangat Berlebihan?. sel...</td>\n",
              "      <td>keringat badan selamat malam dokter fathurrosi...</td>\n",
              "    </tr>\n",
              "    <tr>\n",
              "      <th>1</th>\n",
              "      <td>DS-2</td>\n",
              "      <td>Mengapa Lengan Atas Sakit Walaupun Tidak Melak...</td>\n",
              "      <td>lengan sakit aktivitas siang dokter 4 lengan s...</td>\n",
              "    </tr>\n",
              "    <tr>\n",
              "      <th>2</th>\n",
              "      <td>DS-3</td>\n",
              "      <td>Berapa Batas Usia Kandungan Untuk Melakukan US...</td>\n",
              "      <td>batas usia kandungan usg batas usia kandungan ...</td>\n",
              "    </tr>\n",
              "    <tr>\n",
              "      <th>3</th>\n",
              "      <td>DS-4</td>\n",
              "      <td>Apakah Katarak Pada Bayi Harus Disembuhkan Den...</td>\n",
              "      <td>katarak bayi disembuhkan operasi selamat pagi ...</td>\n",
              "    </tr>\n",
              "    <tr>\n",
              "      <th>4</th>\n",
              "      <td>DS-5</td>\n",
              "      <td>Mengapa Badan Panas dan Ngilu Selama Berhari-h...</td>\n",
              "      <td>badan panas ngilu berhari nama ferini intan lu...</td>\n",
              "    </tr>\n",
              "  </tbody>\n",
              "</table>\n",
              "</div>\n",
              "    <div class=\"colab-df-buttons\">\n",
              "\n",
              "  <div class=\"colab-df-container\">\n",
              "    <button class=\"colab-df-convert\" onclick=\"convertToInteractive('df-85b4ed4a-8e60-4958-a800-b8a12e25d806')\"\n",
              "            title=\"Convert this dataframe to an interactive table.\"\n",
              "            style=\"display:none;\">\n",
              "\n",
              "  <svg xmlns=\"http://www.w3.org/2000/svg\" height=\"24px\" viewBox=\"0 -960 960 960\">\n",
              "    <path d=\"M120-120v-720h720v720H120Zm60-500h600v-160H180v160Zm220 220h160v-160H400v160Zm0 220h160v-160H400v160ZM180-400h160v-160H180v160Zm440 0h160v-160H620v160ZM180-180h160v-160H180v160Zm440 0h160v-160H620v160Z\"/>\n",
              "  </svg>\n",
              "    </button>\n",
              "\n",
              "  <style>\n",
              "    .colab-df-container {\n",
              "      display:flex;\n",
              "      gap: 12px;\n",
              "    }\n",
              "\n",
              "    .colab-df-convert {\n",
              "      background-color: #E8F0FE;\n",
              "      border: none;\n",
              "      border-radius: 50%;\n",
              "      cursor: pointer;\n",
              "      display: none;\n",
              "      fill: #1967D2;\n",
              "      height: 32px;\n",
              "      padding: 0 0 0 0;\n",
              "      width: 32px;\n",
              "    }\n",
              "\n",
              "    .colab-df-convert:hover {\n",
              "      background-color: #E2EBFA;\n",
              "      box-shadow: 0px 1px 2px rgba(60, 64, 67, 0.3), 0px 1px 3px 1px rgba(60, 64, 67, 0.15);\n",
              "      fill: #174EA6;\n",
              "    }\n",
              "\n",
              "    .colab-df-buttons div {\n",
              "      margin-bottom: 4px;\n",
              "    }\n",
              "\n",
              "    [theme=dark] .colab-df-convert {\n",
              "      background-color: #3B4455;\n",
              "      fill: #D2E3FC;\n",
              "    }\n",
              "\n",
              "    [theme=dark] .colab-df-convert:hover {\n",
              "      background-color: #434B5C;\n",
              "      box-shadow: 0px 1px 3px 1px rgba(0, 0, 0, 0.15);\n",
              "      filter: drop-shadow(0px 1px 2px rgba(0, 0, 0, 0.3));\n",
              "      fill: #FFFFFF;\n",
              "    }\n",
              "  </style>\n",
              "\n",
              "    <script>\n",
              "      const buttonEl =\n",
              "        document.querySelector('#df-85b4ed4a-8e60-4958-a800-b8a12e25d806 button.colab-df-convert');\n",
              "      buttonEl.style.display =\n",
              "        google.colab.kernel.accessAllowed ? 'block' : 'none';\n",
              "\n",
              "      async function convertToInteractive(key) {\n",
              "        const element = document.querySelector('#df-85b4ed4a-8e60-4958-a800-b8a12e25d806');\n",
              "        const dataTable =\n",
              "          await google.colab.kernel.invokeFunction('convertToInteractive',\n",
              "                                                    [key], {});\n",
              "        if (!dataTable) return;\n",
              "\n",
              "        const docLinkHtml = 'Like what you see? Visit the ' +\n",
              "          '<a target=\"_blank\" href=https://colab.research.google.com/notebooks/data_table.ipynb>data table notebook</a>'\n",
              "          + ' to learn more about interactive tables.';\n",
              "        element.innerHTML = '';\n",
              "        dataTable['output_type'] = 'display_data';\n",
              "        await google.colab.output.renderOutput(dataTable, element);\n",
              "        const docLink = document.createElement('div');\n",
              "        docLink.innerHTML = docLinkHtml;\n",
              "        element.appendChild(docLink);\n",
              "      }\n",
              "    </script>\n",
              "  </div>\n",
              "\n",
              "\n",
              "<div id=\"df-0145fa25-101c-49b3-9726-1764ab384139\">\n",
              "  <button class=\"colab-df-quickchart\" onclick=\"quickchart('df-0145fa25-101c-49b3-9726-1764ab384139')\"\n",
              "            title=\"Suggest charts\"\n",
              "            style=\"display:none;\">\n",
              "\n",
              "<svg xmlns=\"http://www.w3.org/2000/svg\" height=\"24px\"viewBox=\"0 0 24 24\"\n",
              "     width=\"24px\">\n",
              "    <g>\n",
              "        <path d=\"M19 3H5c-1.1 0-2 .9-2 2v14c0 1.1.9 2 2 2h14c1.1 0 2-.9 2-2V5c0-1.1-.9-2-2-2zM9 17H7v-7h2v7zm4 0h-2V7h2v10zm4 0h-2v-4h2v4z\"/>\n",
              "    </g>\n",
              "</svg>\n",
              "  </button>\n",
              "\n",
              "<style>\n",
              "  .colab-df-quickchart {\n",
              "      --bg-color: #E8F0FE;\n",
              "      --fill-color: #1967D2;\n",
              "      --hover-bg-color: #E2EBFA;\n",
              "      --hover-fill-color: #174EA6;\n",
              "      --disabled-fill-color: #AAA;\n",
              "      --disabled-bg-color: #DDD;\n",
              "  }\n",
              "\n",
              "  [theme=dark] .colab-df-quickchart {\n",
              "      --bg-color: #3B4455;\n",
              "      --fill-color: #D2E3FC;\n",
              "      --hover-bg-color: #434B5C;\n",
              "      --hover-fill-color: #FFFFFF;\n",
              "      --disabled-bg-color: #3B4455;\n",
              "      --disabled-fill-color: #666;\n",
              "  }\n",
              "\n",
              "  .colab-df-quickchart {\n",
              "    background-color: var(--bg-color);\n",
              "    border: none;\n",
              "    border-radius: 50%;\n",
              "    cursor: pointer;\n",
              "    display: none;\n",
              "    fill: var(--fill-color);\n",
              "    height: 32px;\n",
              "    padding: 0;\n",
              "    width: 32px;\n",
              "  }\n",
              "\n",
              "  .colab-df-quickchart:hover {\n",
              "    background-color: var(--hover-bg-color);\n",
              "    box-shadow: 0 1px 2px rgba(60, 64, 67, 0.3), 0 1px 3px 1px rgba(60, 64, 67, 0.15);\n",
              "    fill: var(--button-hover-fill-color);\n",
              "  }\n",
              "\n",
              "  .colab-df-quickchart-complete:disabled,\n",
              "  .colab-df-quickchart-complete:disabled:hover {\n",
              "    background-color: var(--disabled-bg-color);\n",
              "    fill: var(--disabled-fill-color);\n",
              "    box-shadow: none;\n",
              "  }\n",
              "\n",
              "  .colab-df-spinner {\n",
              "    border: 2px solid var(--fill-color);\n",
              "    border-color: transparent;\n",
              "    border-bottom-color: var(--fill-color);\n",
              "    animation:\n",
              "      spin 1s steps(1) infinite;\n",
              "  }\n",
              "\n",
              "  @keyframes spin {\n",
              "    0% {\n",
              "      border-color: transparent;\n",
              "      border-bottom-color: var(--fill-color);\n",
              "      border-left-color: var(--fill-color);\n",
              "    }\n",
              "    20% {\n",
              "      border-color: transparent;\n",
              "      border-left-color: var(--fill-color);\n",
              "      border-top-color: var(--fill-color);\n",
              "    }\n",
              "    30% {\n",
              "      border-color: transparent;\n",
              "      border-left-color: var(--fill-color);\n",
              "      border-top-color: var(--fill-color);\n",
              "      border-right-color: var(--fill-color);\n",
              "    }\n",
              "    40% {\n",
              "      border-color: transparent;\n",
              "      border-right-color: var(--fill-color);\n",
              "      border-top-color: var(--fill-color);\n",
              "    }\n",
              "    60% {\n",
              "      border-color: transparent;\n",
              "      border-right-color: var(--fill-color);\n",
              "    }\n",
              "    80% {\n",
              "      border-color: transparent;\n",
              "      border-right-color: var(--fill-color);\n",
              "      border-bottom-color: var(--fill-color);\n",
              "    }\n",
              "    90% {\n",
              "      border-color: transparent;\n",
              "      border-bottom-color: var(--fill-color);\n",
              "    }\n",
              "  }\n",
              "</style>\n",
              "\n",
              "  <script>\n",
              "    async function quickchart(key) {\n",
              "      const quickchartButtonEl =\n",
              "        document.querySelector('#' + key + ' button');\n",
              "      quickchartButtonEl.disabled = true;  // To prevent multiple clicks.\n",
              "      quickchartButtonEl.classList.add('colab-df-spinner');\n",
              "      try {\n",
              "        const charts = await google.colab.kernel.invokeFunction(\n",
              "            'suggestCharts', [key], {});\n",
              "      } catch (error) {\n",
              "        console.error('Error during call to suggestCharts:', error);\n",
              "      }\n",
              "      quickchartButtonEl.classList.remove('colab-df-spinner');\n",
              "      quickchartButtonEl.classList.add('colab-df-quickchart-complete');\n",
              "    }\n",
              "    (() => {\n",
              "      let quickchartButtonEl =\n",
              "        document.querySelector('#df-0145fa25-101c-49b3-9726-1764ab384139 button');\n",
              "      quickchartButtonEl.style.display =\n",
              "        google.colab.kernel.accessAllowed ? 'block' : 'none';\n",
              "    })();\n",
              "  </script>\n",
              "</div>\n",
              "    </div>\n",
              "  </div>\n"
            ],
            "text/plain": [
              "  docno                                               text  \\\n",
              "0  DS-1  Mengapa Keringat Badan Sangat Berlebihan?. sel...   \n",
              "1  DS-2  Mengapa Lengan Atas Sakit Walaupun Tidak Melak...   \n",
              "2  DS-3  Berapa Batas Usia Kandungan Untuk Melakukan US...   \n",
              "3  DS-4  Apakah Katarak Pada Bayi Harus Disembuhkan Den...   \n",
              "4  DS-5  Mengapa Badan Panas dan Ngilu Selama Berhari-h...   \n",
              "\n",
              "                                             keluhan  \n",
              "0  keringat badan selamat malam dokter fathurrosi...  \n",
              "1  lengan sakit aktivitas siang dokter 4 lengan s...  \n",
              "2  batas usia kandungan usg batas usia kandungan ...  \n",
              "3  katarak bayi disembuhkan operasi selamat pagi ...  \n",
              "4  badan panas ngilu berhari nama ferini intan lu...  "
            ]
          },
          "execution_count": 39,
          "metadata": {},
          "output_type": "execute_result"
        }
      ],
      "source": [
        "collection.head()"
      ]
    },
    {
      "cell_type": "code",
      "execution_count": 40,
      "metadata": {
        "colab": {
          "base_uri": "https://localhost:8080/"
        },
        "id": "1LEoMMMqGmQC",
        "outputId": "41775b26-4cdb-4e6d-c47b-f30085ead41e"
      },
      "outputs": [
        {
          "name": "stdout",
          "output_type": "stream",
          "text": [
            "Number of documents: 86723\n",
            "Number of terms: 74200\n",
            "Number of postings: 1924462\n",
            "Number of fields: 0\n",
            "Number of tokens: 2575525\n",
            "Field names: []\n",
            "Positions:   true\n",
            "\n"
          ]
        }
      ],
      "source": [
        "index_fact = pt.IndexFactory.of(index_ref)\n",
        "print(index_fact.getCollectionStatistics().toString())"
      ]
    },
    {
      "cell_type": "markdown",
      "metadata": {
        "id": "CEMPeb1lQEQR"
      },
      "source": [
        "# Evaluate Baseline"
      ]
    },
    {
      "cell_type": "code",
      "execution_count": 41,
      "metadata": {
        "colab": {
          "base_uri": "https://localhost:8080/",
          "height": 117
        },
        "id": "8L-2aYqBQC_6",
        "outputId": "01c697e7-7733-4f38-fa60-de353babde9d"
      },
      "outputs": [
        {
          "name": "stdout",
          "output_type": "stream",
          "text": [
            "CPU times: user 24 s, sys: 371 ms, total: 24.4 s\n",
            "Wall time: 24.7 s\n"
          ]
        },
        {
          "data": {
            "application/vnd.google.colaboratory.intrinsic+json": {
              "summary": "{\n  \"name\": \"get_ipython()\",\n  \"rows\": 1,\n  \"fields\": [\n    {\n      \"column\": \"name\",\n      \"properties\": {\n        \"dtype\": \"string\",\n        \"num_unique_values\": 1,\n        \"samples\": [\n          \"BM25\"\n        ],\n        \"semantic_type\": \"\",\n        \"description\": \"\"\n      }\n    },\n    {\n      \"column\": \"R@10\",\n      \"properties\": {\n        \"dtype\": \"number\",\n        \"std\": null,\n        \"min\": 0.1742700739344046,\n        \"max\": 0.1742700739344046,\n        \"num_unique_values\": 1,\n        \"samples\": [\n          0.1742700739344046\n        ],\n        \"semantic_type\": \"\",\n        \"description\": \"\"\n      }\n    },\n    {\n      \"column\": \"R@5\",\n      \"properties\": {\n        \"dtype\": \"number\",\n        \"std\": null,\n        \"min\": 0.11328263740505432,\n        \"max\": 0.11328263740505432,\n        \"num_unique_values\": 1,\n        \"samples\": [\n          0.11328263740505432\n        ],\n        \"semantic_type\": \"\",\n        \"description\": \"\"\n      }\n    },\n    {\n      \"column\": \"P@10\",\n      \"properties\": {\n        \"dtype\": \"number\",\n        \"std\": null,\n        \"min\": 0.6555555555555557,\n        \"max\": 0.6555555555555557,\n        \"num_unique_values\": 1,\n        \"samples\": [\n          0.6555555555555557\n        ],\n        \"semantic_type\": \"\",\n        \"description\": \"\"\n      }\n    },\n    {\n      \"column\": \"P@5\",\n      \"properties\": {\n        \"dtype\": \"number\",\n        \"std\": null,\n        \"min\": 0.737777777777778,\n        \"max\": 0.737777777777778,\n        \"num_unique_values\": 1,\n        \"samples\": [\n          0.737777777777778\n        ],\n        \"semantic_type\": \"\",\n        \"description\": \"\"\n      }\n    },\n    {\n      \"column\": \"map\",\n      \"properties\": {\n        \"dtype\": \"number\",\n        \"std\": null,\n        \"min\": 0.45559357602248074,\n        \"max\": 0.45559357602248074,\n        \"num_unique_values\": 1,\n        \"samples\": [\n          0.45559357602248074\n        ],\n        \"semantic_type\": \"\",\n        \"description\": \"\"\n      }\n    },\n    {\n      \"column\": \"recip_rank\",\n      \"properties\": {\n        \"dtype\": \"number\",\n        \"std\": null,\n        \"min\": 0.8577777777777779,\n        \"max\": 0.8577777777777779,\n        \"num_unique_values\": 1,\n        \"samples\": [\n          0.8577777777777779\n        ],\n        \"semantic_type\": \"\",\n        \"description\": \"\"\n      }\n    },\n    {\n      \"column\": \"nDCG@5\",\n      \"properties\": {\n        \"dtype\": \"number\",\n        \"std\": null,\n        \"min\": 0.7448905273418782,\n        \"max\": 0.7448905273418782,\n        \"num_unique_values\": 1,\n        \"samples\": [\n          0.7448905273418782\n        ],\n        \"semantic_type\": \"\",\n        \"description\": \"\"\n      }\n    }\n  ]\n}",
              "type": "dataframe"
            },
            "text/html": [
              "\n",
              "  <div id=\"df-35e03878-c1cf-420e-a4e2-c65ae9026895\" class=\"colab-df-container\">\n",
              "    <div>\n",
              "<style scoped>\n",
              "    .dataframe tbody tr th:only-of-type {\n",
              "        vertical-align: middle;\n",
              "    }\n",
              "\n",
              "    .dataframe tbody tr th {\n",
              "        vertical-align: top;\n",
              "    }\n",
              "\n",
              "    .dataframe thead th {\n",
              "        text-align: right;\n",
              "    }\n",
              "</style>\n",
              "<table border=\"1\" class=\"dataframe\">\n",
              "  <thead>\n",
              "    <tr style=\"text-align: right;\">\n",
              "      <th></th>\n",
              "      <th>name</th>\n",
              "      <th>R@10</th>\n",
              "      <th>R@5</th>\n",
              "      <th>P@10</th>\n",
              "      <th>P@5</th>\n",
              "      <th>map</th>\n",
              "      <th>recip_rank</th>\n",
              "      <th>nDCG@5</th>\n",
              "    </tr>\n",
              "  </thead>\n",
              "  <tbody>\n",
              "    <tr>\n",
              "      <th>0</th>\n",
              "      <td>BM25</td>\n",
              "      <td>0.17427</td>\n",
              "      <td>0.113283</td>\n",
              "      <td>0.655556</td>\n",
              "      <td>0.737778</td>\n",
              "      <td>0.455594</td>\n",
              "      <td>0.857778</td>\n",
              "      <td>0.744891</td>\n",
              "    </tr>\n",
              "  </tbody>\n",
              "</table>\n",
              "</div>\n",
              "    <div class=\"colab-df-buttons\">\n",
              "\n",
              "  <div class=\"colab-df-container\">\n",
              "    <button class=\"colab-df-convert\" onclick=\"convertToInteractive('df-35e03878-c1cf-420e-a4e2-c65ae9026895')\"\n",
              "            title=\"Convert this dataframe to an interactive table.\"\n",
              "            style=\"display:none;\">\n",
              "\n",
              "  <svg xmlns=\"http://www.w3.org/2000/svg\" height=\"24px\" viewBox=\"0 -960 960 960\">\n",
              "    <path d=\"M120-120v-720h720v720H120Zm60-500h600v-160H180v160Zm220 220h160v-160H400v160Zm0 220h160v-160H400v160ZM180-400h160v-160H180v160Zm440 0h160v-160H620v160ZM180-180h160v-160H180v160Zm440 0h160v-160H620v160Z\"/>\n",
              "  </svg>\n",
              "    </button>\n",
              "\n",
              "  <style>\n",
              "    .colab-df-container {\n",
              "      display:flex;\n",
              "      gap: 12px;\n",
              "    }\n",
              "\n",
              "    .colab-df-convert {\n",
              "      background-color: #E8F0FE;\n",
              "      border: none;\n",
              "      border-radius: 50%;\n",
              "      cursor: pointer;\n",
              "      display: none;\n",
              "      fill: #1967D2;\n",
              "      height: 32px;\n",
              "      padding: 0 0 0 0;\n",
              "      width: 32px;\n",
              "    }\n",
              "\n",
              "    .colab-df-convert:hover {\n",
              "      background-color: #E2EBFA;\n",
              "      box-shadow: 0px 1px 2px rgba(60, 64, 67, 0.3), 0px 1px 3px 1px rgba(60, 64, 67, 0.15);\n",
              "      fill: #174EA6;\n",
              "    }\n",
              "\n",
              "    .colab-df-buttons div {\n",
              "      margin-bottom: 4px;\n",
              "    }\n",
              "\n",
              "    [theme=dark] .colab-df-convert {\n",
              "      background-color: #3B4455;\n",
              "      fill: #D2E3FC;\n",
              "    }\n",
              "\n",
              "    [theme=dark] .colab-df-convert:hover {\n",
              "      background-color: #434B5C;\n",
              "      box-shadow: 0px 1px 3px 1px rgba(0, 0, 0, 0.15);\n",
              "      filter: drop-shadow(0px 1px 2px rgba(0, 0, 0, 0.3));\n",
              "      fill: #FFFFFF;\n",
              "    }\n",
              "  </style>\n",
              "\n",
              "    <script>\n",
              "      const buttonEl =\n",
              "        document.querySelector('#df-35e03878-c1cf-420e-a4e2-c65ae9026895 button.colab-df-convert');\n",
              "      buttonEl.style.display =\n",
              "        google.colab.kernel.accessAllowed ? 'block' : 'none';\n",
              "\n",
              "      async function convertToInteractive(key) {\n",
              "        const element = document.querySelector('#df-35e03878-c1cf-420e-a4e2-c65ae9026895');\n",
              "        const dataTable =\n",
              "          await google.colab.kernel.invokeFunction('convertToInteractive',\n",
              "                                                    [key], {});\n",
              "        if (!dataTable) return;\n",
              "\n",
              "        const docLinkHtml = 'Like what you see? Visit the ' +\n",
              "          '<a target=\"_blank\" href=https://colab.research.google.com/notebooks/data_table.ipynb>data table notebook</a>'\n",
              "          + ' to learn more about interactive tables.';\n",
              "        element.innerHTML = '';\n",
              "        dataTable['output_type'] = 'display_data';\n",
              "        await google.colab.output.renderOutput(dataTable, element);\n",
              "        const docLink = document.createElement('div');\n",
              "        docLink.innerHTML = docLinkHtml;\n",
              "        element.appendChild(docLink);\n",
              "      }\n",
              "    </script>\n",
              "  </div>\n",
              "\n",
              "    </div>\n",
              "  </div>\n"
            ],
            "text/plain": [
              "   name     R@10       R@5      P@10       P@5       map  recip_rank    nDCG@5\n",
              "0  BM25  0.17427  0.113283  0.655556  0.737778  0.455594    0.857778  0.744891"
            ]
          },
          "execution_count": 41,
          "metadata": {},
          "output_type": "execute_result"
        }
      ],
      "source": [
        "%%time\n",
        "\n",
        "bm25 = pt.BatchRetrieve(index_ref, wmodel = \"BM25\")\n",
        "pt.Experiment(\n",
        "    [bm25],\n",
        "    topics=queries,\n",
        "    qrels=qrels,\n",
        "    eval_metrics = [R@10, R@5, P@10, P@5, \"map\", \"recip_rank\", nDCG@5],\n",
        "    names=['BM25']\n",
        ")"
      ]
    },
    {
      "cell_type": "code",
      "execution_count": 42,
      "metadata": {
        "id": "7xvkfxWBeOAA"
      },
      "outputs": [],
      "source": [
        "def get_serp_metadata(serp):\n",
        "    return pd.merge(serp, qrels[['qid', 'docno', 'label']], how='left', on=['qid', 'docno'])\n",
        "\n",
        "def get_serp(observed_qid, model, get_qrels_label=True, k=15):\n",
        "    model_result = model.transform(queries[queries['qid'] == observed_qid])\n",
        "    if get_qrels_label:\n",
        "        model_result = get_serp_metadata(model_result)\n",
        "    top_metadata = model_result[model_result['rank'] < k].sort_values(by=['rank'])\n",
        "    return top_metadata\n",
        "\n",
        "def compare_rank_score(metric_scores, val_topics):\n",
        "    df_scores = pd.DataFrame(metric_scores)\n",
        "\n",
        "    observed_queries = []\n",
        "    for index, row in df_scores.iterrows():\n",
        "        observed_queries.append(queries[queries['qid'] == index]['query_raw'].values[0])\n",
        "    df_scores['query_raw'] = observed_queries\n",
        "\n",
        "    print(\"Rerank < Baseline (Baseline > Rerank)\")\n",
        "    display(df_scores[df_scores['BM25 >> LambdaMART XGBoost'] < df_scores['BM25 Only']])\n",
        "    print()\n",
        "    print(\"Rerank > Baseline (Baseline < Rerank)\")\n",
        "    display(df_scores[df_scores['BM25 >> LambdaMART XGBoost'] > df_scores['BM25 Only']])\n",
        "\n",
        "def get_observed_doc(observed_docno):\n",
        "    return data[data['docno'] == observed_docno]['keluhan'].values[0]\n",
        "\n",
        "def get_observed_query(observed_qid):\n",
        "    return queries[queries['qid'] == observed_qid]['query'].values[0]"
      ]
    },
    {
      "cell_type": "markdown",
      "metadata": {
        "id": "_mAo3L4wMMiY"
      },
      "source": [
        "# Export"
      ]
    },
    {
      "cell_type": "code",
      "execution_count": 44,
      "metadata": {
        "colab": {
          "base_uri": "https://localhost:8080/",
          "height": 206
        },
        "id": "aETZ-_7JUgJ7",
        "outputId": "c2f45b8c-67da-4137-98e6-8f4a95e6eced"
      },
      "outputs": [
        {
          "data": {
            "application/vnd.google.colaboratory.intrinsic+json": {
              "summary": "{\n  \"name\": \"data\",\n  \"rows\": 86723,\n  \"fields\": [\n    {\n      \"column\": \"docno\",\n      \"properties\": {\n        \"dtype\": \"string\",\n        \"num_unique_values\": 86723,\n        \"samples\": [\n          \"KD-43109\",\n          \"KD-38107\",\n          \"KD-14027\"\n        ],\n        \"semantic_type\": \"\",\n        \"description\": \"\"\n      }\n    },\n    {\n      \"column\": \"keluhan\",\n      \"properties\": {\n        \"dtype\": \"string\",\n        \"num_unique_values\": 86188,\n        \"samples\": [\n          \"Gejalan dan pengobatan paru-paru basah. dok, saya mau tanya gejala paru paru basah itu apa saja dok? terus cara pengobatan nya bagaimana?\",\n          \"Olahraga Untuk Meninggikan Badan. Olahraga apa saja yang dapat mempercepat pertumbuhan tinggi badan remaja usia 16 ? apakah loncat-loncat (skipping) juga mendukung?\",\n          \"Makanan yang dilarang untuk penderita ISPA. selamat malam dok. anak saya sedang mengalami ispa boleh kah anakku mengkonsumsi makanan seperti kacang,jagung,dan ikan seperti tongkol. mohon info nya terima kasih.\"\n        ],\n        \"semantic_type\": \"\",\n        \"description\": \"\"\n      }\n    },\n    {\n      \"column\": \"keluhan_preprocessed\",\n      \"properties\": {\n        \"dtype\": \"string\",\n        \"num_unique_values\": 85774,\n        \"samples\": [\n          \"solusi penyakit varikokel dok dok pasien kena varikokel solusi penyakit varikokel dok operasi operasi keturunan dok mohon penjelasannya dok terima kasih\",\n          \"cabut gigi sakit dokter gigi bolong tambal takut cabut gigi dokter gigi sakit teknologi canggih obat cairan dokter gigi matiin sakit suntik takut suntik\",\n          \"benjolan vagina dok wilda umur 22 th menikah mmpunyai kista bartolin dibgian bibir vagina sbelah kiri stahun didlem vagina letak kista bartolin benjolan keras ya dok konsultasi dokter kandungan menyarankan mnikah tindakan operasi status nona solusi ya dok trimaksh dok\"\n        ],\n        \"semantic_type\": \"\",\n        \"description\": \"\"\n      }\n    }\n  ]\n}",
              "type": "dataframe",
              "variable_name": "data"
            },
            "text/html": [
              "\n",
              "  <div id=\"df-f39220f2-343d-46dc-a095-5f0b0aa600e4\" class=\"colab-df-container\">\n",
              "    <div>\n",
              "<style scoped>\n",
              "    .dataframe tbody tr th:only-of-type {\n",
              "        vertical-align: middle;\n",
              "    }\n",
              "\n",
              "    .dataframe tbody tr th {\n",
              "        vertical-align: top;\n",
              "    }\n",
              "\n",
              "    .dataframe thead th {\n",
              "        text-align: right;\n",
              "    }\n",
              "</style>\n",
              "<table border=\"1\" class=\"dataframe\">\n",
              "  <thead>\n",
              "    <tr style=\"text-align: right;\">\n",
              "      <th></th>\n",
              "      <th>docno</th>\n",
              "      <th>keluhan</th>\n",
              "      <th>keluhan_preprocessed</th>\n",
              "    </tr>\n",
              "  </thead>\n",
              "  <tbody>\n",
              "    <tr>\n",
              "      <th>0</th>\n",
              "      <td>DS-1</td>\n",
              "      <td>Mengapa Keringat Badan Sangat Berlebihan?. sel...</td>\n",
              "      <td>keringat badan selamat malam dokter fathurrosi...</td>\n",
              "    </tr>\n",
              "    <tr>\n",
              "      <th>1</th>\n",
              "      <td>DS-2</td>\n",
              "      <td>Mengapa Lengan Atas Sakit Walaupun Tidak Melak...</td>\n",
              "      <td>lengan sakit aktivitas siang dokter 4 lengan s...</td>\n",
              "    </tr>\n",
              "    <tr>\n",
              "      <th>2</th>\n",
              "      <td>DS-3</td>\n",
              "      <td>Berapa Batas Usia Kandungan Untuk Melakukan US...</td>\n",
              "      <td>batas usia kandungan usg batas usia kandungan ...</td>\n",
              "    </tr>\n",
              "    <tr>\n",
              "      <th>3</th>\n",
              "      <td>DS-4</td>\n",
              "      <td>Apakah Katarak Pada Bayi Harus Disembuhkan Den...</td>\n",
              "      <td>katarak bayi disembuhkan operasi selamat pagi ...</td>\n",
              "    </tr>\n",
              "    <tr>\n",
              "      <th>4</th>\n",
              "      <td>DS-5</td>\n",
              "      <td>Mengapa Badan Panas dan Ngilu Selama Berhari-h...</td>\n",
              "      <td>badan panas ngilu berhari nama ferini intan lu...</td>\n",
              "    </tr>\n",
              "  </tbody>\n",
              "</table>\n",
              "</div>\n",
              "    <div class=\"colab-df-buttons\">\n",
              "\n",
              "  <div class=\"colab-df-container\">\n",
              "    <button class=\"colab-df-convert\" onclick=\"convertToInteractive('df-f39220f2-343d-46dc-a095-5f0b0aa600e4')\"\n",
              "            title=\"Convert this dataframe to an interactive table.\"\n",
              "            style=\"display:none;\">\n",
              "\n",
              "  <svg xmlns=\"http://www.w3.org/2000/svg\" height=\"24px\" viewBox=\"0 -960 960 960\">\n",
              "    <path d=\"M120-120v-720h720v720H120Zm60-500h600v-160H180v160Zm220 220h160v-160H400v160Zm0 220h160v-160H400v160ZM180-400h160v-160H180v160Zm440 0h160v-160H620v160ZM180-180h160v-160H180v160Zm440 0h160v-160H620v160Z\"/>\n",
              "  </svg>\n",
              "    </button>\n",
              "\n",
              "  <style>\n",
              "    .colab-df-container {\n",
              "      display:flex;\n",
              "      gap: 12px;\n",
              "    }\n",
              "\n",
              "    .colab-df-convert {\n",
              "      background-color: #E8F0FE;\n",
              "      border: none;\n",
              "      border-radius: 50%;\n",
              "      cursor: pointer;\n",
              "      display: none;\n",
              "      fill: #1967D2;\n",
              "      height: 32px;\n",
              "      padding: 0 0 0 0;\n",
              "      width: 32px;\n",
              "    }\n",
              "\n",
              "    .colab-df-convert:hover {\n",
              "      background-color: #E2EBFA;\n",
              "      box-shadow: 0px 1px 2px rgba(60, 64, 67, 0.3), 0px 1px 3px 1px rgba(60, 64, 67, 0.15);\n",
              "      fill: #174EA6;\n",
              "    }\n",
              "\n",
              "    .colab-df-buttons div {\n",
              "      margin-bottom: 4px;\n",
              "    }\n",
              "\n",
              "    [theme=dark] .colab-df-convert {\n",
              "      background-color: #3B4455;\n",
              "      fill: #D2E3FC;\n",
              "    }\n",
              "\n",
              "    [theme=dark] .colab-df-convert:hover {\n",
              "      background-color: #434B5C;\n",
              "      box-shadow: 0px 1px 3px 1px rgba(0, 0, 0, 0.15);\n",
              "      filter: drop-shadow(0px 1px 2px rgba(0, 0, 0, 0.3));\n",
              "      fill: #FFFFFF;\n",
              "    }\n",
              "  </style>\n",
              "\n",
              "    <script>\n",
              "      const buttonEl =\n",
              "        document.querySelector('#df-f39220f2-343d-46dc-a095-5f0b0aa600e4 button.colab-df-convert');\n",
              "      buttonEl.style.display =\n",
              "        google.colab.kernel.accessAllowed ? 'block' : 'none';\n",
              "\n",
              "      async function convertToInteractive(key) {\n",
              "        const element = document.querySelector('#df-f39220f2-343d-46dc-a095-5f0b0aa600e4');\n",
              "        const dataTable =\n",
              "          await google.colab.kernel.invokeFunction('convertToInteractive',\n",
              "                                                    [key], {});\n",
              "        if (!dataTable) return;\n",
              "\n",
              "        const docLinkHtml = 'Like what you see? Visit the ' +\n",
              "          '<a target=\"_blank\" href=https://colab.research.google.com/notebooks/data_table.ipynb>data table notebook</a>'\n",
              "          + ' to learn more about interactive tables.';\n",
              "        element.innerHTML = '';\n",
              "        dataTable['output_type'] = 'display_data';\n",
              "        await google.colab.output.renderOutput(dataTable, element);\n",
              "        const docLink = document.createElement('div');\n",
              "        docLink.innerHTML = docLinkHtml;\n",
              "        element.appendChild(docLink);\n",
              "      }\n",
              "    </script>\n",
              "  </div>\n",
              "\n",
              "\n",
              "<div id=\"df-c1af3401-9ea6-41a8-a281-5d4f7c338577\">\n",
              "  <button class=\"colab-df-quickchart\" onclick=\"quickchart('df-c1af3401-9ea6-41a8-a281-5d4f7c338577')\"\n",
              "            title=\"Suggest charts\"\n",
              "            style=\"display:none;\">\n",
              "\n",
              "<svg xmlns=\"http://www.w3.org/2000/svg\" height=\"24px\"viewBox=\"0 0 24 24\"\n",
              "     width=\"24px\">\n",
              "    <g>\n",
              "        <path d=\"M19 3H5c-1.1 0-2 .9-2 2v14c0 1.1.9 2 2 2h14c1.1 0 2-.9 2-2V5c0-1.1-.9-2-2-2zM9 17H7v-7h2v7zm4 0h-2V7h2v10zm4 0h-2v-4h2v4z\"/>\n",
              "    </g>\n",
              "</svg>\n",
              "  </button>\n",
              "\n",
              "<style>\n",
              "  .colab-df-quickchart {\n",
              "      --bg-color: #E8F0FE;\n",
              "      --fill-color: #1967D2;\n",
              "      --hover-bg-color: #E2EBFA;\n",
              "      --hover-fill-color: #174EA6;\n",
              "      --disabled-fill-color: #AAA;\n",
              "      --disabled-bg-color: #DDD;\n",
              "  }\n",
              "\n",
              "  [theme=dark] .colab-df-quickchart {\n",
              "      --bg-color: #3B4455;\n",
              "      --fill-color: #D2E3FC;\n",
              "      --hover-bg-color: #434B5C;\n",
              "      --hover-fill-color: #FFFFFF;\n",
              "      --disabled-bg-color: #3B4455;\n",
              "      --disabled-fill-color: #666;\n",
              "  }\n",
              "\n",
              "  .colab-df-quickchart {\n",
              "    background-color: var(--bg-color);\n",
              "    border: none;\n",
              "    border-radius: 50%;\n",
              "    cursor: pointer;\n",
              "    display: none;\n",
              "    fill: var(--fill-color);\n",
              "    height: 32px;\n",
              "    padding: 0;\n",
              "    width: 32px;\n",
              "  }\n",
              "\n",
              "  .colab-df-quickchart:hover {\n",
              "    background-color: var(--hover-bg-color);\n",
              "    box-shadow: 0 1px 2px rgba(60, 64, 67, 0.3), 0 1px 3px 1px rgba(60, 64, 67, 0.15);\n",
              "    fill: var(--button-hover-fill-color);\n",
              "  }\n",
              "\n",
              "  .colab-df-quickchart-complete:disabled,\n",
              "  .colab-df-quickchart-complete:disabled:hover {\n",
              "    background-color: var(--disabled-bg-color);\n",
              "    fill: var(--disabled-fill-color);\n",
              "    box-shadow: none;\n",
              "  }\n",
              "\n",
              "  .colab-df-spinner {\n",
              "    border: 2px solid var(--fill-color);\n",
              "    border-color: transparent;\n",
              "    border-bottom-color: var(--fill-color);\n",
              "    animation:\n",
              "      spin 1s steps(1) infinite;\n",
              "  }\n",
              "\n",
              "  @keyframes spin {\n",
              "    0% {\n",
              "      border-color: transparent;\n",
              "      border-bottom-color: var(--fill-color);\n",
              "      border-left-color: var(--fill-color);\n",
              "    }\n",
              "    20% {\n",
              "      border-color: transparent;\n",
              "      border-left-color: var(--fill-color);\n",
              "      border-top-color: var(--fill-color);\n",
              "    }\n",
              "    30% {\n",
              "      border-color: transparent;\n",
              "      border-left-color: var(--fill-color);\n",
              "      border-top-color: var(--fill-color);\n",
              "      border-right-color: var(--fill-color);\n",
              "    }\n",
              "    40% {\n",
              "      border-color: transparent;\n",
              "      border-right-color: var(--fill-color);\n",
              "      border-top-color: var(--fill-color);\n",
              "    }\n",
              "    60% {\n",
              "      border-color: transparent;\n",
              "      border-right-color: var(--fill-color);\n",
              "    }\n",
              "    80% {\n",
              "      border-color: transparent;\n",
              "      border-right-color: var(--fill-color);\n",
              "      border-bottom-color: var(--fill-color);\n",
              "    }\n",
              "    90% {\n",
              "      border-color: transparent;\n",
              "      border-bottom-color: var(--fill-color);\n",
              "    }\n",
              "  }\n",
              "</style>\n",
              "\n",
              "  <script>\n",
              "    async function quickchart(key) {\n",
              "      const quickchartButtonEl =\n",
              "        document.querySelector('#' + key + ' button');\n",
              "      quickchartButtonEl.disabled = true;  // To prevent multiple clicks.\n",
              "      quickchartButtonEl.classList.add('colab-df-spinner');\n",
              "      try {\n",
              "        const charts = await google.colab.kernel.invokeFunction(\n",
              "            'suggestCharts', [key], {});\n",
              "      } catch (error) {\n",
              "        console.error('Error during call to suggestCharts:', error);\n",
              "      }\n",
              "      quickchartButtonEl.classList.remove('colab-df-spinner');\n",
              "      quickchartButtonEl.classList.add('colab-df-quickchart-complete');\n",
              "    }\n",
              "    (() => {\n",
              "      let quickchartButtonEl =\n",
              "        document.querySelector('#df-c1af3401-9ea6-41a8-a281-5d4f7c338577 button');\n",
              "      quickchartButtonEl.style.display =\n",
              "        google.colab.kernel.accessAllowed ? 'block' : 'none';\n",
              "    })();\n",
              "  </script>\n",
              "</div>\n",
              "    </div>\n",
              "  </div>\n"
            ],
            "text/plain": [
              "  docno                                            keluhan  \\\n",
              "0  DS-1  Mengapa Keringat Badan Sangat Berlebihan?. sel...   \n",
              "1  DS-2  Mengapa Lengan Atas Sakit Walaupun Tidak Melak...   \n",
              "2  DS-3  Berapa Batas Usia Kandungan Untuk Melakukan US...   \n",
              "3  DS-4  Apakah Katarak Pada Bayi Harus Disembuhkan Den...   \n",
              "4  DS-5  Mengapa Badan Panas dan Ngilu Selama Berhari-h...   \n",
              "\n",
              "                                keluhan_preprocessed  \n",
              "0  keringat badan selamat malam dokter fathurrosi...  \n",
              "1  lengan sakit aktivitas siang dokter 4 lengan s...  \n",
              "2  batas usia kandungan usg batas usia kandungan ...  \n",
              "3  katarak bayi disembuhkan operasi selamat pagi ...  \n",
              "4  badan panas ngilu berhari nama ferini intan lu...  "
            ]
          },
          "execution_count": 44,
          "metadata": {},
          "output_type": "execute_result"
        }
      ],
      "source": [
        "data = data.rename(columns = {\"keluhan\": \"keluhan_preprocessed\", \"keluhan_raw\": \"keluhan\"})\n",
        "data.head()"
      ]
    },
    {
      "cell_type": "code",
      "execution_count": 45,
      "metadata": {
        "colab": {
          "base_uri": "https://localhost:8080/",
          "height": 206
        },
        "id": "naQewhFJS3jK",
        "outputId": "037042eb-b30e-4abe-fa32-9921650eca1d"
      },
      "outputs": [
        {
          "data": {
            "application/vnd.google.colaboratory.intrinsic+json": {
              "summary": "{\n  \"name\": \"queries\",\n  \"rows\": 45,\n  \"fields\": [\n    {\n      \"column\": \"qid\",\n      \"properties\": {\n        \"dtype\": \"string\",\n        \"num_unique_values\": 45,\n        \"samples\": [\n          \"Q45\",\n          \"Q30\",\n          \"Q31\"\n        ],\n        \"semantic_type\": \"\",\n        \"description\": \"\"\n      }\n    },\n    {\n      \"column\": \"query\",\n      \"properties\": {\n        \"dtype\": \"string\",\n        \"num_unique_values\": 45,\n        \"samples\": [\n          \"Infeksi Indung telur. dok, kemarin saya disarankan oleh dokter saya untuk melakukan USG karena saya sering mengalami nyeri perut pada saat menstruasi. dan hasil USG nya ternyata saya mengalami penyakit infeksi indung telur. apa langkah yang saya ambil selanjutnya? sampai saat ini saya hanya membiarkannya karena rasa sakitnya hanya terasa pada waktu menstruasi saja.\",\n          \"Berat Janin. dok usia kandungan saya 15 minggu, berat janin saya 124 gram apakah normal dok?\",\n          \"Bercak Putih di Wajah. hallo dok.. saya ingin bertanya kenapa diwajah anak saya ada bercak putih seperti panu.. usia anak saya 3 bulan apa ya obatnya? terimakasih\"\n        ],\n        \"semantic_type\": \"\",\n        \"description\": \"\"\n      }\n    },\n    {\n      \"column\": \"query_preprocessed\",\n      \"properties\": {\n        \"dtype\": \"string\",\n        \"num_unique_values\": 45,\n        \"samples\": [\n          \"infeksi indung telur dok kemarin disarankan dokter usg mengalami nyeri perut menstruasi hasil usg nya mengalami penyakit infeksi indung telur langkah ambil membiarkannya sakitnya menstruasi\",\n          \"berat janin dok usia kandungan 15 minggu berat janin 124 gram normal dok\",\n          \"bercak putih wajah hallo dok diwajah anak bercak putih panu usia anak 3 ya obatnya terimakasih\"\n        ],\n        \"semantic_type\": \"\",\n        \"description\": \"\"\n      }\n    }\n  ]\n}",
              "type": "dataframe",
              "variable_name": "queries"
            },
            "text/html": [
              "\n",
              "  <div id=\"df-bbbb3863-91e0-4fb3-8edd-42d4cc932a3c\" class=\"colab-df-container\">\n",
              "    <div>\n",
              "<style scoped>\n",
              "    .dataframe tbody tr th:only-of-type {\n",
              "        vertical-align: middle;\n",
              "    }\n",
              "\n",
              "    .dataframe tbody tr th {\n",
              "        vertical-align: top;\n",
              "    }\n",
              "\n",
              "    .dataframe thead th {\n",
              "        text-align: right;\n",
              "    }\n",
              "</style>\n",
              "<table border=\"1\" class=\"dataframe\">\n",
              "  <thead>\n",
              "    <tr style=\"text-align: right;\">\n",
              "      <th></th>\n",
              "      <th>qid</th>\n",
              "      <th>query</th>\n",
              "      <th>query_preprocessed</th>\n",
              "    </tr>\n",
              "  </thead>\n",
              "  <tbody>\n",
              "    <tr>\n",
              "      <th>0</th>\n",
              "      <td>Q1</td>\n",
              "      <td>Cara mengatasi pusing, lemas dan hidung berair...</td>\n",
              "      <td>mengatasi pusing lemas hidung berair malam dok...</td>\n",
              "    </tr>\n",
              "    <tr>\n",
              "      <th>174</th>\n",
              "      <td>Q2</td>\n",
              "      <td>Telinga berdengung sebelah kiri. Selamat pagi ...</td>\n",
              "      <td>telinga berdengung sebelah kiri selamat pagi d...</td>\n",
              "    </tr>\n",
              "    <tr>\n",
              "      <th>308</th>\n",
              "      <td>Q3</td>\n",
              "      <td>Benjolan di sekitar kelamin. Sore dok..Maaf do...</td>\n",
              "      <td>benjolan kelamin sore dok maaf dok 4 mengalami...</td>\n",
              "    </tr>\n",
              "    <tr>\n",
              "      <th>472</th>\n",
              "      <td>Q4</td>\n",
              "      <td>Makanan untuk penderita penyakit lambung dan l...</td>\n",
              "      <td>makanan penderita penyakit lambung liver dok m...</td>\n",
              "    </tr>\n",
              "    <tr>\n",
              "      <th>624</th>\n",
              "      <td>Q5</td>\n",
              "      <td>Kebiasaan melamun atau berkhayal secara berleb...</td>\n",
              "      <td>kebiasaan melamun berkhayal dok pengidap malad...</td>\n",
              "    </tr>\n",
              "  </tbody>\n",
              "</table>\n",
              "</div>\n",
              "    <div class=\"colab-df-buttons\">\n",
              "\n",
              "  <div class=\"colab-df-container\">\n",
              "    <button class=\"colab-df-convert\" onclick=\"convertToInteractive('df-bbbb3863-91e0-4fb3-8edd-42d4cc932a3c')\"\n",
              "            title=\"Convert this dataframe to an interactive table.\"\n",
              "            style=\"display:none;\">\n",
              "\n",
              "  <svg xmlns=\"http://www.w3.org/2000/svg\" height=\"24px\" viewBox=\"0 -960 960 960\">\n",
              "    <path d=\"M120-120v-720h720v720H120Zm60-500h600v-160H180v160Zm220 220h160v-160H400v160Zm0 220h160v-160H400v160ZM180-400h160v-160H180v160Zm440 0h160v-160H620v160ZM180-180h160v-160H180v160Zm440 0h160v-160H620v160Z\"/>\n",
              "  </svg>\n",
              "    </button>\n",
              "\n",
              "  <style>\n",
              "    .colab-df-container {\n",
              "      display:flex;\n",
              "      gap: 12px;\n",
              "    }\n",
              "\n",
              "    .colab-df-convert {\n",
              "      background-color: #E8F0FE;\n",
              "      border: none;\n",
              "      border-radius: 50%;\n",
              "      cursor: pointer;\n",
              "      display: none;\n",
              "      fill: #1967D2;\n",
              "      height: 32px;\n",
              "      padding: 0 0 0 0;\n",
              "      width: 32px;\n",
              "    }\n",
              "\n",
              "    .colab-df-convert:hover {\n",
              "      background-color: #E2EBFA;\n",
              "      box-shadow: 0px 1px 2px rgba(60, 64, 67, 0.3), 0px 1px 3px 1px rgba(60, 64, 67, 0.15);\n",
              "      fill: #174EA6;\n",
              "    }\n",
              "\n",
              "    .colab-df-buttons div {\n",
              "      margin-bottom: 4px;\n",
              "    }\n",
              "\n",
              "    [theme=dark] .colab-df-convert {\n",
              "      background-color: #3B4455;\n",
              "      fill: #D2E3FC;\n",
              "    }\n",
              "\n",
              "    [theme=dark] .colab-df-convert:hover {\n",
              "      background-color: #434B5C;\n",
              "      box-shadow: 0px 1px 3px 1px rgba(0, 0, 0, 0.15);\n",
              "      filter: drop-shadow(0px 1px 2px rgba(0, 0, 0, 0.3));\n",
              "      fill: #FFFFFF;\n",
              "    }\n",
              "  </style>\n",
              "\n",
              "    <script>\n",
              "      const buttonEl =\n",
              "        document.querySelector('#df-bbbb3863-91e0-4fb3-8edd-42d4cc932a3c button.colab-df-convert');\n",
              "      buttonEl.style.display =\n",
              "        google.colab.kernel.accessAllowed ? 'block' : 'none';\n",
              "\n",
              "      async function convertToInteractive(key) {\n",
              "        const element = document.querySelector('#df-bbbb3863-91e0-4fb3-8edd-42d4cc932a3c');\n",
              "        const dataTable =\n",
              "          await google.colab.kernel.invokeFunction('convertToInteractive',\n",
              "                                                    [key], {});\n",
              "        if (!dataTable) return;\n",
              "\n",
              "        const docLinkHtml = 'Like what you see? Visit the ' +\n",
              "          '<a target=\"_blank\" href=https://colab.research.google.com/notebooks/data_table.ipynb>data table notebook</a>'\n",
              "          + ' to learn more about interactive tables.';\n",
              "        element.innerHTML = '';\n",
              "        dataTable['output_type'] = 'display_data';\n",
              "        await google.colab.output.renderOutput(dataTable, element);\n",
              "        const docLink = document.createElement('div');\n",
              "        docLink.innerHTML = docLinkHtml;\n",
              "        element.appendChild(docLink);\n",
              "      }\n",
              "    </script>\n",
              "  </div>\n",
              "\n",
              "\n",
              "<div id=\"df-19586ba3-c776-4a4e-9b2c-858d6c694f64\">\n",
              "  <button class=\"colab-df-quickchart\" onclick=\"quickchart('df-19586ba3-c776-4a4e-9b2c-858d6c694f64')\"\n",
              "            title=\"Suggest charts\"\n",
              "            style=\"display:none;\">\n",
              "\n",
              "<svg xmlns=\"http://www.w3.org/2000/svg\" height=\"24px\"viewBox=\"0 0 24 24\"\n",
              "     width=\"24px\">\n",
              "    <g>\n",
              "        <path d=\"M19 3H5c-1.1 0-2 .9-2 2v14c0 1.1.9 2 2 2h14c1.1 0 2-.9 2-2V5c0-1.1-.9-2-2-2zM9 17H7v-7h2v7zm4 0h-2V7h2v10zm4 0h-2v-4h2v4z\"/>\n",
              "    </g>\n",
              "</svg>\n",
              "  </button>\n",
              "\n",
              "<style>\n",
              "  .colab-df-quickchart {\n",
              "      --bg-color: #E8F0FE;\n",
              "      --fill-color: #1967D2;\n",
              "      --hover-bg-color: #E2EBFA;\n",
              "      --hover-fill-color: #174EA6;\n",
              "      --disabled-fill-color: #AAA;\n",
              "      --disabled-bg-color: #DDD;\n",
              "  }\n",
              "\n",
              "  [theme=dark] .colab-df-quickchart {\n",
              "      --bg-color: #3B4455;\n",
              "      --fill-color: #D2E3FC;\n",
              "      --hover-bg-color: #434B5C;\n",
              "      --hover-fill-color: #FFFFFF;\n",
              "      --disabled-bg-color: #3B4455;\n",
              "      --disabled-fill-color: #666;\n",
              "  }\n",
              "\n",
              "  .colab-df-quickchart {\n",
              "    background-color: var(--bg-color);\n",
              "    border: none;\n",
              "    border-radius: 50%;\n",
              "    cursor: pointer;\n",
              "    display: none;\n",
              "    fill: var(--fill-color);\n",
              "    height: 32px;\n",
              "    padding: 0;\n",
              "    width: 32px;\n",
              "  }\n",
              "\n",
              "  .colab-df-quickchart:hover {\n",
              "    background-color: var(--hover-bg-color);\n",
              "    box-shadow: 0 1px 2px rgba(60, 64, 67, 0.3), 0 1px 3px 1px rgba(60, 64, 67, 0.15);\n",
              "    fill: var(--button-hover-fill-color);\n",
              "  }\n",
              "\n",
              "  .colab-df-quickchart-complete:disabled,\n",
              "  .colab-df-quickchart-complete:disabled:hover {\n",
              "    background-color: var(--disabled-bg-color);\n",
              "    fill: var(--disabled-fill-color);\n",
              "    box-shadow: none;\n",
              "  }\n",
              "\n",
              "  .colab-df-spinner {\n",
              "    border: 2px solid var(--fill-color);\n",
              "    border-color: transparent;\n",
              "    border-bottom-color: var(--fill-color);\n",
              "    animation:\n",
              "      spin 1s steps(1) infinite;\n",
              "  }\n",
              "\n",
              "  @keyframes spin {\n",
              "    0% {\n",
              "      border-color: transparent;\n",
              "      border-bottom-color: var(--fill-color);\n",
              "      border-left-color: var(--fill-color);\n",
              "    }\n",
              "    20% {\n",
              "      border-color: transparent;\n",
              "      border-left-color: var(--fill-color);\n",
              "      border-top-color: var(--fill-color);\n",
              "    }\n",
              "    30% {\n",
              "      border-color: transparent;\n",
              "      border-left-color: var(--fill-color);\n",
              "      border-top-color: var(--fill-color);\n",
              "      border-right-color: var(--fill-color);\n",
              "    }\n",
              "    40% {\n",
              "      border-color: transparent;\n",
              "      border-right-color: var(--fill-color);\n",
              "      border-top-color: var(--fill-color);\n",
              "    }\n",
              "    60% {\n",
              "      border-color: transparent;\n",
              "      border-right-color: var(--fill-color);\n",
              "    }\n",
              "    80% {\n",
              "      border-color: transparent;\n",
              "      border-right-color: var(--fill-color);\n",
              "      border-bottom-color: var(--fill-color);\n",
              "    }\n",
              "    90% {\n",
              "      border-color: transparent;\n",
              "      border-bottom-color: var(--fill-color);\n",
              "    }\n",
              "  }\n",
              "</style>\n",
              "\n",
              "  <script>\n",
              "    async function quickchart(key) {\n",
              "      const quickchartButtonEl =\n",
              "        document.querySelector('#' + key + ' button');\n",
              "      quickchartButtonEl.disabled = true;  // To prevent multiple clicks.\n",
              "      quickchartButtonEl.classList.add('colab-df-spinner');\n",
              "      try {\n",
              "        const charts = await google.colab.kernel.invokeFunction(\n",
              "            'suggestCharts', [key], {});\n",
              "      } catch (error) {\n",
              "        console.error('Error during call to suggestCharts:', error);\n",
              "      }\n",
              "      quickchartButtonEl.classList.remove('colab-df-spinner');\n",
              "      quickchartButtonEl.classList.add('colab-df-quickchart-complete');\n",
              "    }\n",
              "    (() => {\n",
              "      let quickchartButtonEl =\n",
              "        document.querySelector('#df-19586ba3-c776-4a4e-9b2c-858d6c694f64 button');\n",
              "      quickchartButtonEl.style.display =\n",
              "        google.colab.kernel.accessAllowed ? 'block' : 'none';\n",
              "    })();\n",
              "  </script>\n",
              "</div>\n",
              "    </div>\n",
              "  </div>\n"
            ],
            "text/plain": [
              "    qid                                              query  \\\n",
              "0    Q1  Cara mengatasi pusing, lemas dan hidung berair...   \n",
              "174  Q2  Telinga berdengung sebelah kiri. Selamat pagi ...   \n",
              "308  Q3  Benjolan di sekitar kelamin. Sore dok..Maaf do...   \n",
              "472  Q4  Makanan untuk penderita penyakit lambung dan l...   \n",
              "624  Q5  Kebiasaan melamun atau berkhayal secara berleb...   \n",
              "\n",
              "                                    query_preprocessed  \n",
              "0    mengatasi pusing lemas hidung berair malam dok...  \n",
              "174  telinga berdengung sebelah kiri selamat pagi d...  \n",
              "308  benjolan kelamin sore dok maaf dok 4 mengalami...  \n",
              "472  makanan penderita penyakit lambung liver dok m...  \n",
              "624  kebiasaan melamun berkhayal dok pengidap malad...  "
            ]
          },
          "execution_count": 45,
          "metadata": {},
          "output_type": "execute_result"
        }
      ],
      "source": [
        "queries = queries.rename(columns = {\"query\": \"query_preprocessed\", \"query_raw\": \"query\"})\n",
        "queries.head()"
      ]
    },
    {
      "cell_type": "code",
      "execution_count": 46,
      "metadata": {
        "id": "M_SnRMFvMOVM"
      },
      "outputs": [],
      "source": [
        "with open('nostops_data_23-03-24.pickle', 'wb') as handle:\n",
        "    pickle.dump(data, handle, protocol=pickle.HIGHEST_PROTOCOL)\n",
        "with open('nostops_qrels_23-03-24.pickle', 'wb') as handle:\n",
        "    pickle.dump(qrels, handle, protocol=pickle.HIGHEST_PROTOCOL)\n",
        "with open('nostops_queries_23-03-24.pickle', 'wb') as handle:\n",
        "    pickle.dump(queries, handle, protocol=pickle.HIGHEST_PROTOCOL)"
      ]
    }
  ],
  "metadata": {
    "colab": {
      "provenance": [],
      "toc_visible": true
    },
    "kernelspec": {
      "display_name": "Python 3",
      "name": "python3"
    },
    "language_info": {
      "name": "python"
    }
  },
  "nbformat": 4,
  "nbformat_minor": 0
}
